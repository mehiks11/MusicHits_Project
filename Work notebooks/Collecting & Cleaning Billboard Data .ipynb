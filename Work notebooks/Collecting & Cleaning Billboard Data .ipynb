{
 "cells": [
  {
   "cell_type": "markdown",
   "id": "formed-liquid",
   "metadata": {},
   "source": [
    "# Data Collection for Music Hits Linear Regression Project"
   ]
  },
  {
   "cell_type": "markdown",
   "id": "advance-administrator",
   "metadata": {},
   "source": [
    "#### This notebook will gather data for the music hits linear regression project."
   ]
  },
  {
   "cell_type": "markdown",
   "id": "computational-custody",
   "metadata": {},
   "source": [
    "###### The rundown of the notebook is as follows:\n",
    "\n",
    "1. Importing/Web Scraping all the Data\n",
    "    * Web Scraping Billboard\n",
    "    * Importing Spotify data\n",
    "    * Importing Notediscover data\n",
    "2. Creating a Dataframe with the imported data\n",
    "    * Merging all of our data together on song name\n",
    "3. Cleaning the data and other EDA\n",
    "    * Checking for NULL values\n",
    "    * Investigate outliers\n",
    "**************\n",
    "The following will be done in a new notebook:\n",
    "\n",
    "4. Fitting a model and visualizations\n",
    "    * fit a linear regression model\n",
    "    * find error values\n",
    "    * provide visualizations\n",
    "5. Testing our model on testing data (Repeating some parts of step 1)\n",
    "    * create a testing dataset\n",
    "    * run a test on our test dataset"
   ]
  },
  {
   "cell_type": "markdown",
   "id": "impressive-satellite",
   "metadata": {},
   "source": [
    "The following code:\n",
    "* Imports necessary libraries and packages for webscraping"
   ]
  },
  {
   "cell_type": "code",
   "execution_count": 3,
   "id": "interesting-foundation",
   "metadata": {},
   "outputs": [],
   "source": [
    "import requests\n",
    "from bs4 import BeautifulSoup\n",
    "import time, os\n",
    "from selenium import webdriver\n",
    "from selenium.webdriver.common.keys import Keys\n",
    "import pandas as pd\n",
    "import numpy as np"
   ]
  },
  {
   "cell_type": "markdown",
   "id": "intellectual-communications",
   "metadata": {},
   "source": [
    "### Billboard Data"
   ]
  },
  {
   "cell_type": "code",
   "execution_count": 4,
   "id": "regular-individual",
   "metadata": {},
   "outputs": [],
   "source": [
    "URL1= \"https://www.billboard.com/charts/hot-100\"\n",
    "billboard1= requests.get(URL1)\n",
    "\n",
    "URL2=\"https://www.billboard.com/charts/hot-100/2021-03-20\"\n",
    "billboard2= requests.get(URL2)\n",
    "\n",
    "URL3=\"https://www.billboard.com/charts/hot-100/2020-02-20\"\n",
    "billboard3= requests.get(URL3)\n",
    "\n",
    "URL4=\"https://www.billboard.com/charts/hot-100/2019-01-23\"\n",
    "billboard4= requests.get(URL4)\n",
    "\n",
    "URL5=\"https://www.billboard.com/charts/hot-100/2018-12-26\"\n",
    "billboard5= requests.get(URL5)\n",
    "\n",
    "URL6=\"https://www.billboard.com/charts/hot-100/2017-11-28\"\n",
    "billboard6= requests.get(URL6)\n",
    "\n",
    "URL7=\"https://www.billboard.com/charts/hot-100/2020-10-31\"\n",
    "billboard7= requests.get(URL7)\n",
    "\n",
    "URL8=\"https://www.billboard.com/charts/hot-100/2016-10-03\"\n",
    "billboard8= requests.get(URL8)\n",
    "\n",
    "URL9=\"https://www.billboard.com/charts/hot-100/2015-09-05\"\n",
    "billboard9= requests.get(URL9)\n",
    "\n",
    "URL10=\"https://www.billboard.com/charts/hot-100/2014-08-08\"\n",
    "billboard10= requests.get(URL10)\n",
    "\n",
    "\n",
    "URL11=\"https://www.billboard.com/charts/hot-100/2013-07-11\"\n",
    "billboard11= requests.get(URL11)\n",
    "\n",
    "URL12=\"https://www.billboard.com/charts/hot-100/2012-06-13\"\n",
    "billboard12= requests.get(URL12)\n",
    "\n",
    "URL13=\"https://www.billboard.com/charts/hot-100/2011-05-16\"\n",
    "billboard13= requests.get(URL13)\n",
    "\n",
    "URL14=\"https://www.billboard.com/charts/hot-100/2010-04-18\"\n",
    "billboard14= requests.get(URL14)\n",
    "\n",
    "URL15=\"https://www.billboard.com/charts/hot-100/2009-03-21\"\n",
    "billboard15= requests.get(URL15)\n",
    "\n",
    "URL16=\"https://www.billboard.com/charts/hot-100/2008-02-22\"\n",
    "billboard16= requests.get(URL16)\n",
    "\n",
    "URL17=\"https://www.billboard.com/charts/hot-100/2007-02-01\"\n",
    "billboard17= requests.get(URL17)\n",
    "\n",
    "URL18=\"https://www.billboard.com/charts/hot-100/2006-01-04\"\n",
    "billboard18= requests.get(URL18)\n",
    "\n",
    "URL19=\"https://www.billboard.com/charts/hot-100/2005-12-07\"\n",
    "billboard19= requests.get(URL19)\n",
    "\n",
    "URL20=\"https://www.billboard.com/charts/hot-100/2004-11-09\"\n",
    "billboard20= requests.get(URL20)\n",
    "\n",
    "URL21=\"https://www.billboard.com/charts/hot-100/2003-10-12\"\n",
    "billboard21= requests.get(URL21)\n",
    "\n",
    "URL22=\"https://www.billboard.com/charts/hot-100/2002-09-14\"\n",
    "billboard22= requests.get(URL22)\n",
    "\n",
    "URL23=\"https://www.billboard.com/charts/hot-100/2001-08-17\"\n",
    "billboard23= requests.get(URL23)\n",
    "\n",
    "URL24=\"https://www.billboard.com/charts/hot-100/2000-07-20\"\n",
    "billboard24= requests.get(URL24)\n",
    "\n",
    "URL25=\"https://www.billboard.com/charts/hot-100/1999-06-22\"\n",
    "billboard25= requests.get(URL25)\n",
    "\n",
    "URL26=\"https://www.billboard.com/charts/hot-100/2000-05-25\"\n",
    "billboard26= requests.get(URL26)\n",
    "\n",
    "URL27=\"https://www.billboard.com/charts/hot-100/2001-04-27\"\n",
    "billboard27= requests.get(URL27)\n",
    "\n",
    "URL28=\"https://www.billboard.com/charts/hot-100/2002-03-30\"\n",
    "billboard28= requests.get(URL28)\n",
    "\n",
    "URL29=\"https://www.billboard.com/charts/hot-100/2003-03-02\"\n",
    "billboard29= requests.get(URL29)\n",
    "\n",
    "URL30=\"https://www.billboard.com/charts/hot-100/2004-02-09\"\n",
    "billboard30= requests.get(URL30)\n",
    "\n",
    "URL31=\"https://www.billboard.com/charts/hot-100/2005-01-12\"\n",
    "billboard31= requests.get(URL31)\n",
    "\n",
    "URL32=\"https://www.billboard.com/charts/hot-100/2006-12-15\"\n",
    "billboard32= requests.get(URL32)\n",
    "\n",
    "URL33=\"https://www.billboard.com/charts/hot-100/2007-11-17\"\n",
    "billboard33= requests.get(URL33)\n",
    "\n",
    "URL34=\"https://www.billboard.com/charts/hot-100/2008-10-20\"\n",
    "billboard34= requests.get(URL34)\n",
    "\n",
    "URL35=\"https://www.billboard.com/charts/hot-100/2009-09-22\"\n",
    "billboard35= requests.get(URL35)\n",
    "\n",
    "URL36=\"https://www.billboard.com/charts/hot-100/2010-08-25\"\n",
    "billboard36= requests.get(URL36)\n",
    "\n",
    "URL37=\"https://www.billboard.com/charts/hot-100/2011-07-28\"\n",
    "billboard37= requests.get(URL37)\n",
    "\n",
    "URL38=\"https://www.billboard.com/charts/hot-100/2012-06-30\"\n",
    "billboard38= requests.get(URL38)\n",
    "\n",
    "URL39=\"https://www.billboard.com/charts/hot-100/2013-06-02\"\n",
    "billboard39= requests.get(URL39)\n",
    "\n",
    "URL40=\"https://www.billboard.com/charts/hot-100/2014-05-05\"\n",
    "billboard40= requests.get(URL40)\n",
    "\n",
    "URL41=\"https://www.billboard.com/charts/hot-100/2015-04-07\"\n",
    "billboard41= requests.get(URL41)\n",
    "\n",
    "URL42=\"https://www.billboard.com/charts/hot-100/2016-02-09\"\n",
    "billboard42= requests.get(URL42)\n",
    "\n",
    "URL43=\"https://www.billboard.com/charts/hot-100/2017-03-10\"\n",
    "billboard43= requests.get(URL43)\n",
    "\n",
    "URL44=\"https://www.billboard.com/charts/hot-100/2018-02-03\"\n",
    "billboard44= requests.get(URL44)\n",
    "\n",
    "URL45=\"https://www.billboard.com/charts/hot-100/2019-01-06\"\n",
    "billboard45= requests.get(URL45)\n",
    "\n",
    "URL46=\"https://www.billboard.com/charts/hot-100/2020-02-09\"\n",
    "billboard46= requests.get(URL46)\n",
    "\n",
    "URL47=\"https://www.billboard.com/charts/hot-100/1999-12-09\"\n",
    "billboard47= requests.get(URL47)\n",
    "\n",
    "URL48=\"https://www.billboard.com/charts/hot-100/20016-11-11\"\n",
    "billboard48= requests.get(URL48)\n",
    "\n",
    "URL49=\"https://www.billboard.com/charts/hot-100/2017-10-14\"\n",
    "billboard49= requests.get(URL49)\n",
    "\n",
    "URL50=\"https://www.billboard.com/charts/hot-100/2019-09-16\"\n",
    "billboard50= requests.get(URL50)"
   ]
  },
  {
   "cell_type": "code",
   "execution_count": 5,
   "id": "signed-marsh",
   "metadata": {},
   "outputs": [],
   "source": [
    "soup1=BeautifulSoup(billboard1.content, 'html.parser')\n",
    "soup2=BeautifulSoup(billboard2.content, 'html.parser')\n",
    "soup3=BeautifulSoup(billboard3.content, 'html.parser')\n",
    "soup4=BeautifulSoup(billboard4.content, 'html.parser')\n",
    "soup5=BeautifulSoup(billboard5.content, 'html.parser')\n",
    "soup6=BeautifulSoup(billboard6.content, 'html.parser')\n",
    "soup7=BeautifulSoup(billboard7.content, 'html.parser')\n",
    "soup8=BeautifulSoup(billboard8.content, 'html.parser')\n",
    "soup9=BeautifulSoup(billboard9.content, 'html.parser')\n",
    "soup10=BeautifulSoup(billboard10.content, 'html.parser')\n",
    "\n",
    "soup11=BeautifulSoup(billboard11.content, 'html.parser')\n",
    "soup12=BeautifulSoup(billboard12.content, 'html.parser')\n",
    "soup13=BeautifulSoup(billboard13.content, 'html.parser')\n",
    "soup14=BeautifulSoup(billboard14.content, 'html.parser')\n",
    "soup15=BeautifulSoup(billboard15.content, 'html.parser')\n",
    "soup16=BeautifulSoup(billboard16.content, 'html.parser')\n",
    "soup17=BeautifulSoup(billboard17.content, 'html.parser')\n",
    "soup18=BeautifulSoup(billboard18.content, 'html.parser')\n",
    "soup19=BeautifulSoup(billboard19.content, 'html.parser')\n",
    "soup20=BeautifulSoup(billboard20.content, 'html.parser')\n",
    "\n",
    "soup21=BeautifulSoup(billboard21.content, 'html.parser')\n",
    "soup22=BeautifulSoup(billboard22.content, 'html.parser')\n",
    "soup23=BeautifulSoup(billboard23.content, 'html.parser')\n",
    "soup24=BeautifulSoup(billboard24.content, 'html.parser')\n",
    "soup25=BeautifulSoup(billboard25.content, 'html.parser')\n",
    "soup26=BeautifulSoup(billboard26.content, 'html.parser')\n",
    "soup27=BeautifulSoup(billboard27.content, 'html.parser')\n",
    "soup28=BeautifulSoup(billboard28.content, 'html.parser')\n",
    "soup29=BeautifulSoup(billboard29.content, 'html.parser')\n",
    "soup30=BeautifulSoup(billboard30.content, 'html.parser')\n",
    "\n",
    "soup31=BeautifulSoup(billboard31.content, 'html.parser')\n",
    "soup32=BeautifulSoup(billboard32.content, 'html.parser')\n",
    "soup33=BeautifulSoup(billboard33.content, 'html.parser')\n",
    "soup34=BeautifulSoup(billboard34.content, 'html.parser')\n",
    "soup35=BeautifulSoup(billboard35.content, 'html.parser')\n",
    "soup36=BeautifulSoup(billboard36.content, 'html.parser')\n",
    "soup37=BeautifulSoup(billboard37.content, 'html.parser')\n",
    "soup38=BeautifulSoup(billboard38.content, 'html.parser')\n",
    "soup39=BeautifulSoup(billboard39.content, 'html.parser')\n",
    "soup40=BeautifulSoup(billboard40.content, 'html.parser')\n",
    "\n",
    "soup41=BeautifulSoup(billboard41.content, 'html.parser')\n",
    "soup42=BeautifulSoup(billboard42.content, 'html.parser')\n",
    "soup43=BeautifulSoup(billboard43.content, 'html.parser')\n",
    "soup44=BeautifulSoup(billboard44.content, 'html.parser')\n",
    "soup45=BeautifulSoup(billboard45.content, 'html.parser')\n",
    "soup46=BeautifulSoup(billboard46.content, 'html.parser')\n",
    "soup47=BeautifulSoup(billboard47.content, 'html.parser')\n",
    "soup48=BeautifulSoup(billboard48.content, 'html.parser')\n",
    "soup49=BeautifulSoup(billboard49.content, 'html.parser')\n",
    "soup50=BeautifulSoup(billboard50.content, 'html.parser')"
   ]
  },
  {
   "cell_type": "code",
   "execution_count": 6,
   "id": "plastic-appraisal",
   "metadata": {},
   "outputs": [],
   "source": [
    "#make function to find name of song,artist,the peak ranking,  \n",
    "\n",
    "def find_bill_data(pagee):  \n",
    "    song_names=[]\n",
    "    song_data=[]\n",
    "    artist_names=[]\n",
    "    peaks=[]\n",
    "    num_weeks=[]\n",
    "    \n",
    "    song_list=pagee.find_all(class_=\"chart-element__information__song text--truncate color--primary\")\n",
    "    \n",
    "    for song in song_list:\n",
    "        song_names.append(song.text)\n",
    "\n",
    "    artist_list=pagee.find_all(class_=\"chart-element__information__artist text--truncate color--secondary\")\n",
    "    for artist in artist_list:\n",
    "        artist_names.append(artist.text)\n",
    "    \n",
    "    peak_list=pagee.find_all(class_=\"chart-element__information__delta__text text--peak\")\n",
    "    for peak in peak_list:\n",
    "        peaks.append(peak.text)\n",
    "   \n",
    "    num_weeks_list=pagee.find_all(class_=\"chart-element__meta text--center color--secondary text--week\")\n",
    "    for wks in num_weeks_list:\n",
    "        num_weeks.append(wks.text)\n",
    "    \n",
    "    \n",
    "    for i in range(len(song_list)):\n",
    "        song_data.append({'name':song_names[i],'artist':artist_names[i],'peak':peaks[i],'num_wks':num_weeks[i]})\n",
    "        \n",
    "    return song_data"
   ]
  },
  {
   "cell_type": "code",
   "execution_count": null,
   "id": "otherwise-mongolia",
   "metadata": {},
   "outputs": [],
   "source": []
  },
  {
   "cell_type": "code",
   "execution_count": 7,
   "id": "prompt-letter",
   "metadata": {},
   "outputs": [],
   "source": [
    "#iterate functions through all pages to make final list of dictionaries of entries\n",
    "billboard_soups= [soup1,soup2,soup3,soup4,soup5,soup6,soup7,soup8,soup9,soup10,\n",
    "                  soup11,soup12,soup13,soup14,soup15,soup16,soup17,soup18,soup19,soup20,\n",
    "                  soup21,soup22,soup23,soup24,soup25,soup26,soup27,soup28,soup29,soup30,\n",
    "                  soup31,soup32,soup33,soup34,soup35,soup36,soup37,soup38,soup39,soup40,\n",
    "                  soup41,soup42,soup43,soup44,soup45,soup46,soup47,soup48,soup49,soup50]\n"
   ]
  },
  {
   "cell_type": "code",
   "execution_count": 8,
   "id": "pediatric-works",
   "metadata": {},
   "outputs": [],
   "source": [
    "bills_list=[]\n",
    "\n",
    "for page in billboard_soups:\n",
    "    bills_list.extend(find_bill_data(page))"
   ]
  },
  {
   "cell_type": "code",
   "execution_count": 9,
   "id": "ready-kansas",
   "metadata": {},
   "outputs": [],
   "source": [
    "#create an initial dataframe\n",
    "df_names=pd.DataFrame(bills_list)\n"
   ]
  },
  {
   "cell_type": "code",
   "execution_count": 10,
   "id": "spread-valley",
   "metadata": {},
   "outputs": [
    {
     "data": {
      "text/html": [
       "<div>\n",
       "<style scoped>\n",
       "    .dataframe tbody tr th:only-of-type {\n",
       "        vertical-align: middle;\n",
       "    }\n",
       "\n",
       "    .dataframe tbody tr th {\n",
       "        vertical-align: top;\n",
       "    }\n",
       "\n",
       "    .dataframe thead th {\n",
       "        text-align: right;\n",
       "    }\n",
       "</style>\n",
       "<table border=\"1\" class=\"dataframe\">\n",
       "  <thead>\n",
       "    <tr style=\"text-align: right;\">\n",
       "      <th></th>\n",
       "      <th>name</th>\n",
       "      <th>artist</th>\n",
       "      <th>peak</th>\n",
       "      <th>num_wks</th>\n",
       "    </tr>\n",
       "  </thead>\n",
       "  <tbody>\n",
       "    <tr>\n",
       "      <th>0</th>\n",
       "      <td>Leave The Door Open</td>\n",
       "      <td>Silk Sonic (Bruno Mars &amp; Anderson .Paak)</td>\n",
       "      <td>1 Peak Rank</td>\n",
       "      <td>5</td>\n",
       "    </tr>\n",
       "    <tr>\n",
       "      <th>1</th>\n",
       "      <td>Montero (Call Me By Your Name)</td>\n",
       "      <td>Lil Nas X</td>\n",
       "      <td>1 Peak Rank</td>\n",
       "      <td>2</td>\n",
       "    </tr>\n",
       "    <tr>\n",
       "      <th>2</th>\n",
       "      <td>Peaches</td>\n",
       "      <td>Justin Bieber Featuring Daniel Caesar &amp; Giveon</td>\n",
       "      <td>1 Peak Rank</td>\n",
       "      <td>3</td>\n",
       "    </tr>\n",
       "    <tr>\n",
       "      <th>3</th>\n",
       "      <td>Up</td>\n",
       "      <td>Cardi B</td>\n",
       "      <td>1 Peak Rank</td>\n",
       "      <td>9</td>\n",
       "    </tr>\n",
       "    <tr>\n",
       "      <th>4</th>\n",
       "      <td>Drivers License</td>\n",
       "      <td>Olivia Rodrigo</td>\n",
       "      <td>1 Peak Rank</td>\n",
       "      <td>13</td>\n",
       "    </tr>\n",
       "    <tr>\n",
       "      <th>...</th>\n",
       "      <td>...</td>\n",
       "      <td>...</td>\n",
       "      <td>...</td>\n",
       "      <td>...</td>\n",
       "    </tr>\n",
       "    <tr>\n",
       "      <th>2495</th>\n",
       "      <td>She's A Bitch</td>\n",
       "      <td>Missy \"Misdemeanor\" Elliott</td>\n",
       "      <td>90 Peak Rank</td>\n",
       "      <td>6</td>\n",
       "    </tr>\n",
       "    <tr>\n",
       "      <th>2496</th>\n",
       "      <td>It's Over Now</td>\n",
       "      <td>Deborah Cox</td>\n",
       "      <td>70 Peak Rank</td>\n",
       "      <td>6</td>\n",
       "    </tr>\n",
       "    <tr>\n",
       "      <th>2497</th>\n",
       "      <td>Why Don't You Get A Job?</td>\n",
       "      <td>The Offspring</td>\n",
       "      <td>74 Peak Rank</td>\n",
       "      <td>12</td>\n",
       "    </tr>\n",
       "    <tr>\n",
       "      <th>2498</th>\n",
       "      <td>Let Me Know</td>\n",
       "      <td>Cam'ron</td>\n",
       "      <td>99 Peak Rank</td>\n",
       "      <td>1</td>\n",
       "    </tr>\n",
       "    <tr>\n",
       "      <th>2499</th>\n",
       "      <td>Players Holiday</td>\n",
       "      <td>T.W.D.Y. Featuring Too Short &amp; Mac Mall</td>\n",
       "      <td>96 Peak Rank</td>\n",
       "      <td>8</td>\n",
       "    </tr>\n",
       "  </tbody>\n",
       "</table>\n",
       "<p>2500 rows × 4 columns</p>\n",
       "</div>"
      ],
      "text/plain": [
       "                                name  \\\n",
       "0                Leave The Door Open   \n",
       "1     Montero (Call Me By Your Name)   \n",
       "2                            Peaches   \n",
       "3                                 Up   \n",
       "4                    Drivers License   \n",
       "...                              ...   \n",
       "2495                   She's A Bitch   \n",
       "2496                   It's Over Now   \n",
       "2497        Why Don't You Get A Job?   \n",
       "2498                     Let Me Know   \n",
       "2499                 Players Holiday   \n",
       "\n",
       "                                              artist          peak num_wks  \n",
       "0           Silk Sonic (Bruno Mars & Anderson .Paak)   1 Peak Rank       5  \n",
       "1                                          Lil Nas X   1 Peak Rank       2  \n",
       "2     Justin Bieber Featuring Daniel Caesar & Giveon   1 Peak Rank       3  \n",
       "3                                            Cardi B   1 Peak Rank       9  \n",
       "4                                     Olivia Rodrigo   1 Peak Rank      13  \n",
       "...                                              ...           ...     ...  \n",
       "2495                     Missy \"Misdemeanor\" Elliott  90 Peak Rank       6  \n",
       "2496                                     Deborah Cox  70 Peak Rank       6  \n",
       "2497                                   The Offspring  74 Peak Rank      12  \n",
       "2498                                         Cam'ron  99 Peak Rank       1  \n",
       "2499         T.W.D.Y. Featuring Too Short & Mac Mall  96 Peak Rank       8  \n",
       "\n",
       "[2500 rows x 4 columns]"
      ]
     },
     "execution_count": 10,
     "metadata": {},
     "output_type": "execute_result"
    }
   ],
   "source": [
    "# df_names.rename(columns={'name':'song'},inplace=True)\n",
    "df_names"
   ]
  },
  {
   "cell_type": "code",
   "execution_count": 11,
   "id": "fitting-million",
   "metadata": {},
   "outputs": [
    {
     "ename": "AttributeError",
     "evalue": "'DataFrame' object has no attribute 'song'",
     "output_type": "error",
     "traceback": [
      "\u001b[0;31m---------------------------------------------------------------------------\u001b[0m",
      "\u001b[0;31mAttributeError\u001b[0m                            Traceback (most recent call last)",
      "\u001b[0;32m<ipython-input-11-1319893e8033>\u001b[0m in \u001b[0;36m<module>\u001b[0;34m\u001b[0m\n\u001b[1;32m      1\u001b[0m \u001b[0;31m# df_names.to_csv(r'/Users/mehikapatel/MusicHits_Project/data\\Music_Data.csv')\u001b[0m\u001b[0;34m\u001b[0m\u001b[0;34m\u001b[0m\u001b[0;34m\u001b[0m\u001b[0m\n\u001b[0;32m----> 2\u001b[0;31m \u001b[0msong_names\u001b[0m\u001b[0;34m=\u001b[0m\u001b[0mlist\u001b[0m\u001b[0;34m(\u001b[0m\u001b[0mdf_names\u001b[0m\u001b[0;34m.\u001b[0m\u001b[0msong\u001b[0m\u001b[0;34m)\u001b[0m\u001b[0;34m\u001b[0m\u001b[0;34m\u001b[0m\u001b[0m\n\u001b[0m\u001b[1;32m      3\u001b[0m \u001b[0martist_names\u001b[0m\u001b[0;34m=\u001b[0m\u001b[0mlist\u001b[0m\u001b[0;34m(\u001b[0m\u001b[0mdf_names\u001b[0m\u001b[0;34m.\u001b[0m\u001b[0martist\u001b[0m\u001b[0;34m)\u001b[0m\u001b[0;34m\u001b[0m\u001b[0;34m\u001b[0m\u001b[0m\n\u001b[1;32m      4\u001b[0m \u001b[0mpeaks\u001b[0m\u001b[0;34m=\u001b[0m\u001b[0mlist\u001b[0m\u001b[0;34m(\u001b[0m\u001b[0mdf_names\u001b[0m\u001b[0;34m.\u001b[0m\u001b[0mpeak\u001b[0m\u001b[0;34m)\u001b[0m\u001b[0;34m\u001b[0m\u001b[0;34m\u001b[0m\u001b[0m\n",
      "\u001b[0;32m~/opt/anaconda3/lib/python3.8/site-packages/pandas/core/generic.py\u001b[0m in \u001b[0;36m__getattr__\u001b[0;34m(self, name)\u001b[0m\n\u001b[1;32m   5463\u001b[0m             \u001b[0;32mif\u001b[0m \u001b[0mself\u001b[0m\u001b[0;34m.\u001b[0m\u001b[0m_info_axis\u001b[0m\u001b[0;34m.\u001b[0m\u001b[0m_can_hold_identifiers_and_holds_name\u001b[0m\u001b[0;34m(\u001b[0m\u001b[0mname\u001b[0m\u001b[0;34m)\u001b[0m\u001b[0;34m:\u001b[0m\u001b[0;34m\u001b[0m\u001b[0;34m\u001b[0m\u001b[0m\n\u001b[1;32m   5464\u001b[0m                 \u001b[0;32mreturn\u001b[0m \u001b[0mself\u001b[0m\u001b[0;34m[\u001b[0m\u001b[0mname\u001b[0m\u001b[0;34m]\u001b[0m\u001b[0;34m\u001b[0m\u001b[0;34m\u001b[0m\u001b[0m\n\u001b[0;32m-> 5465\u001b[0;31m             \u001b[0;32mreturn\u001b[0m \u001b[0mobject\u001b[0m\u001b[0;34m.\u001b[0m\u001b[0m__getattribute__\u001b[0m\u001b[0;34m(\u001b[0m\u001b[0mself\u001b[0m\u001b[0;34m,\u001b[0m \u001b[0mname\u001b[0m\u001b[0;34m)\u001b[0m\u001b[0;34m\u001b[0m\u001b[0;34m\u001b[0m\u001b[0m\n\u001b[0m\u001b[1;32m   5466\u001b[0m \u001b[0;34m\u001b[0m\u001b[0m\n\u001b[1;32m   5467\u001b[0m     \u001b[0;32mdef\u001b[0m \u001b[0m__setattr__\u001b[0m\u001b[0;34m(\u001b[0m\u001b[0mself\u001b[0m\u001b[0;34m,\u001b[0m \u001b[0mname\u001b[0m\u001b[0;34m:\u001b[0m \u001b[0mstr\u001b[0m\u001b[0;34m,\u001b[0m \u001b[0mvalue\u001b[0m\u001b[0;34m)\u001b[0m \u001b[0;34m->\u001b[0m \u001b[0;32mNone\u001b[0m\u001b[0;34m:\u001b[0m\u001b[0;34m\u001b[0m\u001b[0;34m\u001b[0m\u001b[0m\n",
      "\u001b[0;31mAttributeError\u001b[0m: 'DataFrame' object has no attribute 'song'"
     ]
    }
   ],
   "source": [
    "# df_names.to_csv(r'/Users/mehikapatel/MusicHits_Project/data\\Music_Data.csv')\n",
    "song_names=list(df_names.song)\n",
    "artist_names=list(df_names.artist)\n",
    "peaks=list(df_names.peak)"
   ]
  },
  {
   "cell_type": "markdown",
   "id": "threaded-athletics",
   "metadata": {},
   "source": [
    "### Pulling data from spotify using spotipy"
   ]
  },
  {
   "cell_type": "markdown",
   "id": "owned-express",
   "metadata": {},
   "source": [
    "The following code:\n",
    "* imports spotipy library and logs in with spotify client credentials"
   ]
  },
  {
   "cell_type": "code",
   "execution_count": 37,
   "id": "sustained-translation",
   "metadata": {},
   "outputs": [],
   "source": [
    "#setting up Spotipy for spotify importing\n",
    "import spotipy\n",
    "from spotipy.oauth2 import SpotifyClientCredentials\n",
    "import json\n",
    "\n",
    "client_id='65345a7007f24e969de028910a832395'\n",
    "client_secret='1e7eab7392d947039426ecd1a5ec56c2'\n",
    "spotify = spotipy.Spotify(client_credentials_manager=SpotifyClientCredentials(client_id,client_secret))"
   ]
  },
  {
   "cell_type": "markdown",
   "id": "brazilian-russell",
   "metadata": {},
   "source": [
    "The following code:\n",
    "* Defines a function to pull the artist id and track id for spotipy purposes."
   ]
  },
  {
   "cell_type": "code",
   "execution_count": 39,
   "id": "authorized-dubai",
   "metadata": {},
   "outputs": [
    {
     "data": {
      "text/plain": [
       "{'external_urls': {'spotify': 'https://open.spotify.com/artist/1uNFoZAHBGtllmzznpCI3s'},\n",
       " 'followers': {'href': None, 'total': 44442463},\n",
       " 'genres': ['canadian pop', 'pop', 'post-teen pop'],\n",
       " 'href': 'https://api.spotify.com/v1/artists/1uNFoZAHBGtllmzznpCI3s',\n",
       " 'id': '1uNFoZAHBGtllmzznpCI3s',\n",
       " 'images': [{'height': 640,\n",
       "   'url': 'https://i.scdn.co/image/1a81cce45919b84a588bb1f277e9ec818ff64f92',\n",
       "   'width': 640},\n",
       "  {'height': 320,\n",
       "   'url': 'https://i.scdn.co/image/17c114f4f67d3a4aa9c4cfe284f3d16eb4e4345c',\n",
       "   'width': 320},\n",
       "  {'height': 160,\n",
       "   'url': 'https://i.scdn.co/image/6bdd4e8479dfa008c1a6d0de694985e938552939',\n",
       "   'width': 160}],\n",
       " 'name': 'Justin Bieber',\n",
       " 'popularity': 100,\n",
       " 'type': 'artist',\n",
       " 'uri': 'spotify:artist:1uNFoZAHBGtllmzznpCI3s'}"
      ]
     },
     "execution_count": 39,
     "metadata": {},
     "output_type": "execute_result"
    }
   ],
   "source": [
    "spotify_search(\"peaches\",\"justin bieber\")\n",
    "\n",
    "spotify.artist('https://open.spotify.com/artist/1uNFoZAHBGtllmzznpCI3s')\n"
   ]
  },
  {
   "cell_type": "code",
   "execution_count": 31,
   "id": "appointed-romance",
   "metadata": {},
   "outputs": [],
   "source": [
    "# to get spotify links for each song:\n",
    "def spotify_search(song,artist): \n",
    "    returns=[]\n",
    "    track_id = spotify.search(q='artist:' + artist + ' track:' + song, type='track')\n",
    "    #gets link for artist page\n",
    "    returns.append(track_id['tracks']['items'][0]['album']['artists'][0]['external_urls']['spotify'])\n",
    "    #gets link for song\n",
    "    returns.append(track_id['tracks']['items'][0]['external_urls']['spotify'])\n",
    "    return returns"
   ]
  },
  {
   "cell_type": "markdown",
   "id": "informative-design",
   "metadata": {},
   "source": [
    "The following code:\n",
    "* Runs through the songs/artists lists and uses the spotify ids to grab artist information and track information."
   ]
  },
  {
   "cell_type": "code",
   "execution_count": 50,
   "id": "former-sweden",
   "metadata": {},
   "outputs": [],
   "source": [
    "def get_spotify_info(song,artist):\n",
    "    song_info={}\n",
    "    song_info['song']= song\n",
    "    \n",
    "    #artist info\n",
    "    artist_stuff=spotify.artist(spotify_search(song,artist)[0])\n",
    "    \n",
    "    song_info['artist']=artist_stuff['name']\n",
    "    song_info['followers']=artist_stuff['followers']['total']\n",
    "    song_info['image']=artist_stuff['images'][0]['url']\n",
    "    song_info['popularity']=artist_stuff['popularity']\n",
    "    \n",
    "    #audio info\n",
    "    audio_stuff=spotify.audio_features(spotify_search(song,artist)[1])[0]\n",
    "    \n",
    "    song_info['danceability']=audio_stuff['danceability']\n",
    "    song_info['energy']=audio_stuff['energy']\n",
    "    song_info['key']=audio_stuff['key']\n",
    "    song_info['loudness']=audio_stuff['loudness']\n",
    "    song_info['mode']=audio_stuff['mode']\n",
    "    song_info['speechiness']=audio_stuff['speechiness']\n",
    "    song_info['acousticness']=audio_stuff['acousticness']\n",
    "    song_info['instrumentalness']=audio_stuff['instrumentalness']\n",
    "    song_info['liveness']=audio_stuff['liveness']\n",
    "    song_info['valence']=audio_stuff['valence']\n",
    "    song_info['tempo']=audio_stuff['tempo']\n",
    "    song_info['duration_ms']=audio_stuff['duration_ms']\n",
    "    song_info['time_signature']=audio_stuff['time_signature']\n",
    "    \n",
    "    return song_info"
   ]
  },
  {
   "cell_type": "code",
   "execution_count": 51,
   "id": "passing-cassette",
   "metadata": {},
   "outputs": [],
   "source": [
    "spotify_song_info_list=[]\n",
    "new_artists_list=[]\n",
    "\n",
    "for artist in artist_names:\n",
    "    word_count=artist.count(' ')\n",
    "    if word_count>2:\n",
    "        a=artist.split(' ',1)[0]\n",
    "        b=artist.split(' ',2)[1]\n",
    "        new= a+ ' ' + b\n",
    "        new_artists_list.append(new)\n",
    "    else:\n",
    "        new_artists_list.append(artist)"
   ]
  },
  {
   "cell_type": "code",
   "execution_count": 74,
   "id": "polyphonic-surfing",
   "metadata": {},
   "outputs": [],
   "source": [
    "for i in range(2500,len(song_names)):\n",
    "    try:\n",
    "        spotify_song_info_list.append(get_spotify_info(song_names[i],new_artists_list[i]))\n",
    "    except IndexError:\n",
    "        continue"
   ]
  },
  {
   "cell_type": "markdown",
   "id": "falling-chuck",
   "metadata": {},
   "source": [
    "Turn Spotify data list into a dataframe and merge it with billboard data to have our final dataframe, df. Additional aesthetic/other modifications(renaming, dropping column) and save performed in comments."
   ]
  },
  {
   "cell_type": "code",
   "execution_count": 12,
   "id": "engaged-brazilian",
   "metadata": {},
   "outputs": [
    {
     "ename": "NameError",
     "evalue": "name 'spotify_song_info_list' is not defined",
     "output_type": "error",
     "traceback": [
      "\u001b[0;31m---------------------------------------------------------------------------\u001b[0m",
      "\u001b[0;31mNameError\u001b[0m                                 Traceback (most recent call last)",
      "\u001b[0;32m<ipython-input-12-5d0dca5782fb>\u001b[0m in \u001b[0;36m<module>\u001b[0;34m\u001b[0m\n\u001b[0;32m----> 1\u001b[0;31m \u001b[0mspdf\u001b[0m\u001b[0;34m=\u001b[0m\u001b[0mpd\u001b[0m\u001b[0;34m.\u001b[0m\u001b[0mDataFrame\u001b[0m\u001b[0;34m(\u001b[0m\u001b[0mspotify_song_info_list\u001b[0m\u001b[0;34m)\u001b[0m\u001b[0;34m\u001b[0m\u001b[0;34m\u001b[0m\u001b[0m\n\u001b[0m",
      "\u001b[0;31mNameError\u001b[0m: name 'spotify_song_info_list' is not defined"
     ]
    }
   ],
   "source": [
    "spdf=pd.DataFrame(spotify_song_info_list)"
   ]
  },
  {
   "cell_type": "code",
   "execution_count": 194,
   "id": "metric-denial",
   "metadata": {},
   "outputs": [],
   "source": [
    "df= pd.merge(df_names,spdf,on='song',how='outer')"
   ]
  },
  {
   "cell_type": "code",
   "execution_count": 20,
   "id": "blank-portable",
   "metadata": {},
   "outputs": [],
   "source": [
    "df=pd.read_csv('/Users/mehikapatel/MusicHits_Project/data/data\\Music_Data.csv')\n",
    "# df.head()"
   ]
  },
  {
   "cell_type": "code",
   "execution_count": 19,
   "id": "resistant-young",
   "metadata": {},
   "outputs": [],
   "source": [
    "song_names=list(df.song)\n",
    "artist_names=list(df.artist)"
   ]
  },
  {
   "cell_type": "markdown",
   "id": "precise-discipline",
   "metadata": {},
   "source": [
    "## Wikipedia Data"
   ]
  },
  {
   "cell_type": "markdown",
   "id": "refined-madonna",
   "metadata": {},
   "source": [
    "Selenium to bring in label data."
   ]
  },
  {
   "cell_type": "code",
   "execution_count": 14,
   "id": "continuing-staff",
   "metadata": {},
   "outputs": [],
   "source": [
    "from selenium import webdriver\n",
    "from selenium.webdriver.common.keys import Keys\n",
    "\n",
    "chromedriver = \"/Applications/chromedriver\" # path to the chromedriver executable\n",
    "os.environ[\"webdriver.chrome.driver\"] = chromedriver"
   ]
  },
  {
   "cell_type": "code",
   "execution_count": 15,
   "id": "copyrighted-accent",
   "metadata": {},
   "outputs": [],
   "source": [
    "wiki_url=\"https://www.wikipedia.org\"\n",
    "driver = webdriver.Chrome(chromedriver)\n",
    "driver.get(wiki_url)"
   ]
  },
  {
   "cell_type": "markdown",
   "id": "actual-basket",
   "metadata": {},
   "source": [
    "The following code:\n",
    "* Sets up a function to search and go to a song's wikipedia page. This will eventually be used in a loop to get genre information."
   ]
  },
  {
   "cell_type": "code",
   "execution_count": 21,
   "id": "regulated-emergency",
   "metadata": {},
   "outputs": [],
   "source": [
    "#function for going to a song's page on wiki\n",
    "\n",
    "def wiki_search(song_name,artist_name): \n",
    "    search_box = driver.find_element_by_xpath(\"//input[@type='search']\")\n",
    "    #clear the current search\n",
    "    search_box.clear()\n",
    "    #input new search\n",
    "    search_box.send_keys(song_name + ' '+ artist_name + \" song\")\n",
    "    #hit enter\n",
    "    search_box.send_keys(Keys.RETURN) \n",
    "    #get html of page\n",
    "    req=requests.get(driver.current_url)\n",
    "    soup=BeautifulSoup(req.content,'html.parser')\n",
    "    #get first link and go there\n",
    "    first_link= soup.find('ul', class_=\"mw-search-results\").find('li',class_=\"mw-search-result\").find('a')['href']\n",
    "    driver.get('https://www.wikipedia.org'+first_link)\n",
    "    return 'https://www.wikipedia.org'+first_link"
   ]
  },
  {
   "cell_type": "markdown",
   "id": "physical-dairy",
   "metadata": {},
   "source": [
    "The following code:\n",
    "* Sets up the function to actually pull the data ocne on the song's wikipedia page. "
   ]
  },
  {
   "cell_type": "code",
   "execution_count": 22,
   "id": "several-chair",
   "metadata": {},
   "outputs": [],
   "source": [
    "#function to obtain genre and record label from wikipedia\n",
    "def get_wiki_info(URL):\n",
    "    page=requests.get(URL)\n",
    "    soup = BeautifulSoup(page.content, 'html.parser')\n",
    "    return_dict={}\n",
    "    #length from wikipedia\n",
    "    if 'class=\"infobox-data hlist\"' in str(soup):\n",
    "        labels_broad=soup.find(class_=\"infobox-data hlist\")\n",
    "        if 'class=\"hlist hlist-separated\"' in labels_broad.text:\n",
    "            label= labels_broad.find(class_=\"hlist hlist-separated\")[0].text,\n",
    "        elif '<a' in labels_broad.text:\n",
    "            label= labels_broad.find('a').text\n",
    "        else:\n",
    "            label= labels_broad.text\n",
    "        return_dict['label']=label\n",
    "    return return_dict\n"
   ]
  },
  {
   "cell_type": "code",
   "execution_count": 26,
   "id": "interesting-trout",
   "metadata": {},
   "outputs": [],
   "source": [
    "label_list=[]"
   ]
  },
  {
   "cell_type": "code",
   "execution_count": 27,
   "id": "desperate-sending",
   "metadata": {},
   "outputs": [
    {
     "ename": "KeyboardInterrupt",
     "evalue": "",
     "output_type": "error",
     "traceback": [
      "\u001b[0;31m---------------------------------------------------------------------------\u001b[0m",
      "\u001b[0;31mKeyboardInterrupt\u001b[0m                         Traceback (most recent call last)",
      "\u001b[0;32m<ipython-input-27-93fd7b5d8d61>\u001b[0m in \u001b[0;36m<module>\u001b[0;34m\u001b[0m\n\u001b[1;32m      1\u001b[0m \u001b[0;32mfor\u001b[0m \u001b[0mx\u001b[0m \u001b[0;32min\u001b[0m \u001b[0mrange\u001b[0m\u001b[0;34m(\u001b[0m\u001b[0;36m0\u001b[0m\u001b[0;34m,\u001b[0m\u001b[0;36m500\u001b[0m\u001b[0;34m)\u001b[0m\u001b[0;34m:\u001b[0m\u001b[0;34m\u001b[0m\u001b[0;34m\u001b[0m\u001b[0m\n\u001b[0;32m----> 2\u001b[0;31m     \u001b[0mlabel_list\u001b[0m\u001b[0;34m.\u001b[0m\u001b[0mappend\u001b[0m\u001b[0;34m(\u001b[0m\u001b[0mget_wiki_info\u001b[0m\u001b[0;34m(\u001b[0m\u001b[0mwiki_search\u001b[0m\u001b[0;34m(\u001b[0m\u001b[0msong_names\u001b[0m\u001b[0;34m[\u001b[0m\u001b[0mx\u001b[0m\u001b[0;34m]\u001b[0m\u001b[0;34m,\u001b[0m\u001b[0martist_names\u001b[0m\u001b[0;34m[\u001b[0m\u001b[0mx\u001b[0m\u001b[0;34m]\u001b[0m\u001b[0;34m)\u001b[0m\u001b[0;34m)\u001b[0m\u001b[0;34m)\u001b[0m\u001b[0;34m\u001b[0m\u001b[0;34m\u001b[0m\u001b[0m\n\u001b[0m",
      "\u001b[0;32m<ipython-input-22-1886ebcb7ffe>\u001b[0m in \u001b[0;36mget_wiki_info\u001b[0;34m(URL)\u001b[0m\n\u001b[1;32m      1\u001b[0m \u001b[0;31m#function to obtain genre and record label from wikipedia\u001b[0m\u001b[0;34m\u001b[0m\u001b[0;34m\u001b[0m\u001b[0;34m\u001b[0m\u001b[0m\n\u001b[1;32m      2\u001b[0m \u001b[0;32mdef\u001b[0m \u001b[0mget_wiki_info\u001b[0m\u001b[0;34m(\u001b[0m\u001b[0mURL\u001b[0m\u001b[0;34m)\u001b[0m\u001b[0;34m:\u001b[0m\u001b[0;34m\u001b[0m\u001b[0;34m\u001b[0m\u001b[0m\n\u001b[0;32m----> 3\u001b[0;31m     \u001b[0mpage\u001b[0m\u001b[0;34m=\u001b[0m\u001b[0mrequests\u001b[0m\u001b[0;34m.\u001b[0m\u001b[0mget\u001b[0m\u001b[0;34m(\u001b[0m\u001b[0mURL\u001b[0m\u001b[0;34m)\u001b[0m\u001b[0;34m\u001b[0m\u001b[0;34m\u001b[0m\u001b[0m\n\u001b[0m\u001b[1;32m      4\u001b[0m     \u001b[0msoup\u001b[0m \u001b[0;34m=\u001b[0m \u001b[0mBeautifulSoup\u001b[0m\u001b[0;34m(\u001b[0m\u001b[0mpage\u001b[0m\u001b[0;34m.\u001b[0m\u001b[0mcontent\u001b[0m\u001b[0;34m,\u001b[0m \u001b[0;34m'html.parser'\u001b[0m\u001b[0;34m)\u001b[0m\u001b[0;34m\u001b[0m\u001b[0;34m\u001b[0m\u001b[0m\n\u001b[1;32m      5\u001b[0m     \u001b[0mreturn_dict\u001b[0m\u001b[0;34m=\u001b[0m\u001b[0;34m{\u001b[0m\u001b[0;34m}\u001b[0m\u001b[0;34m\u001b[0m\u001b[0;34m\u001b[0m\u001b[0m\n",
      "\u001b[0;32m~/opt/anaconda3/lib/python3.8/site-packages/requests/api.py\u001b[0m in \u001b[0;36mget\u001b[0;34m(url, params, **kwargs)\u001b[0m\n\u001b[1;32m     74\u001b[0m \u001b[0;34m\u001b[0m\u001b[0m\n\u001b[1;32m     75\u001b[0m     \u001b[0mkwargs\u001b[0m\u001b[0;34m.\u001b[0m\u001b[0msetdefault\u001b[0m\u001b[0;34m(\u001b[0m\u001b[0;34m'allow_redirects'\u001b[0m\u001b[0;34m,\u001b[0m \u001b[0;32mTrue\u001b[0m\u001b[0;34m)\u001b[0m\u001b[0;34m\u001b[0m\u001b[0;34m\u001b[0m\u001b[0m\n\u001b[0;32m---> 76\u001b[0;31m     \u001b[0;32mreturn\u001b[0m \u001b[0mrequest\u001b[0m\u001b[0;34m(\u001b[0m\u001b[0;34m'get'\u001b[0m\u001b[0;34m,\u001b[0m \u001b[0murl\u001b[0m\u001b[0;34m,\u001b[0m \u001b[0mparams\u001b[0m\u001b[0;34m=\u001b[0m\u001b[0mparams\u001b[0m\u001b[0;34m,\u001b[0m \u001b[0;34m**\u001b[0m\u001b[0mkwargs\u001b[0m\u001b[0;34m)\u001b[0m\u001b[0;34m\u001b[0m\u001b[0;34m\u001b[0m\u001b[0m\n\u001b[0m\u001b[1;32m     77\u001b[0m \u001b[0;34m\u001b[0m\u001b[0m\n\u001b[1;32m     78\u001b[0m \u001b[0;34m\u001b[0m\u001b[0m\n",
      "\u001b[0;32m~/opt/anaconda3/lib/python3.8/site-packages/requests/api.py\u001b[0m in \u001b[0;36mrequest\u001b[0;34m(method, url, **kwargs)\u001b[0m\n\u001b[1;32m     59\u001b[0m     \u001b[0;31m# cases, and look like a memory leak in others.\u001b[0m\u001b[0;34m\u001b[0m\u001b[0;34m\u001b[0m\u001b[0;34m\u001b[0m\u001b[0m\n\u001b[1;32m     60\u001b[0m     \u001b[0;32mwith\u001b[0m \u001b[0msessions\u001b[0m\u001b[0;34m.\u001b[0m\u001b[0mSession\u001b[0m\u001b[0;34m(\u001b[0m\u001b[0;34m)\u001b[0m \u001b[0;32mas\u001b[0m \u001b[0msession\u001b[0m\u001b[0;34m:\u001b[0m\u001b[0;34m\u001b[0m\u001b[0;34m\u001b[0m\u001b[0m\n\u001b[0;32m---> 61\u001b[0;31m         \u001b[0;32mreturn\u001b[0m \u001b[0msession\u001b[0m\u001b[0;34m.\u001b[0m\u001b[0mrequest\u001b[0m\u001b[0;34m(\u001b[0m\u001b[0mmethod\u001b[0m\u001b[0;34m=\u001b[0m\u001b[0mmethod\u001b[0m\u001b[0;34m,\u001b[0m \u001b[0murl\u001b[0m\u001b[0;34m=\u001b[0m\u001b[0murl\u001b[0m\u001b[0;34m,\u001b[0m \u001b[0;34m**\u001b[0m\u001b[0mkwargs\u001b[0m\u001b[0;34m)\u001b[0m\u001b[0;34m\u001b[0m\u001b[0;34m\u001b[0m\u001b[0m\n\u001b[0m\u001b[1;32m     62\u001b[0m \u001b[0;34m\u001b[0m\u001b[0m\n\u001b[1;32m     63\u001b[0m \u001b[0;34m\u001b[0m\u001b[0m\n",
      "\u001b[0;32m~/opt/anaconda3/lib/python3.8/site-packages/requests/sessions.py\u001b[0m in \u001b[0;36mrequest\u001b[0;34m(self, method, url, params, data, headers, cookies, files, auth, timeout, allow_redirects, proxies, hooks, stream, verify, cert, json)\u001b[0m\n\u001b[1;32m    540\u001b[0m         }\n\u001b[1;32m    541\u001b[0m         \u001b[0msend_kwargs\u001b[0m\u001b[0;34m.\u001b[0m\u001b[0mupdate\u001b[0m\u001b[0;34m(\u001b[0m\u001b[0msettings\u001b[0m\u001b[0;34m)\u001b[0m\u001b[0;34m\u001b[0m\u001b[0;34m\u001b[0m\u001b[0m\n\u001b[0;32m--> 542\u001b[0;31m         \u001b[0mresp\u001b[0m \u001b[0;34m=\u001b[0m \u001b[0mself\u001b[0m\u001b[0;34m.\u001b[0m\u001b[0msend\u001b[0m\u001b[0;34m(\u001b[0m\u001b[0mprep\u001b[0m\u001b[0;34m,\u001b[0m \u001b[0;34m**\u001b[0m\u001b[0msend_kwargs\u001b[0m\u001b[0;34m)\u001b[0m\u001b[0;34m\u001b[0m\u001b[0;34m\u001b[0m\u001b[0m\n\u001b[0m\u001b[1;32m    543\u001b[0m \u001b[0;34m\u001b[0m\u001b[0m\n\u001b[1;32m    544\u001b[0m         \u001b[0;32mreturn\u001b[0m \u001b[0mresp\u001b[0m\u001b[0;34m\u001b[0m\u001b[0;34m\u001b[0m\u001b[0m\n",
      "\u001b[0;32m~/opt/anaconda3/lib/python3.8/site-packages/requests/sessions.py\u001b[0m in \u001b[0;36msend\u001b[0;34m(self, request, **kwargs)\u001b[0m\n\u001b[1;32m    669\u001b[0m                 \u001b[0mextract_cookies_to_jar\u001b[0m\u001b[0;34m(\u001b[0m\u001b[0mself\u001b[0m\u001b[0;34m.\u001b[0m\u001b[0mcookies\u001b[0m\u001b[0;34m,\u001b[0m \u001b[0mresp\u001b[0m\u001b[0;34m.\u001b[0m\u001b[0mrequest\u001b[0m\u001b[0;34m,\u001b[0m \u001b[0mresp\u001b[0m\u001b[0;34m.\u001b[0m\u001b[0mraw\u001b[0m\u001b[0;34m)\u001b[0m\u001b[0;34m\u001b[0m\u001b[0;34m\u001b[0m\u001b[0m\n\u001b[1;32m    670\u001b[0m \u001b[0;34m\u001b[0m\u001b[0m\n\u001b[0;32m--> 671\u001b[0;31m         \u001b[0mextract_cookies_to_jar\u001b[0m\u001b[0;34m(\u001b[0m\u001b[0mself\u001b[0m\u001b[0;34m.\u001b[0m\u001b[0mcookies\u001b[0m\u001b[0;34m,\u001b[0m \u001b[0mrequest\u001b[0m\u001b[0;34m,\u001b[0m \u001b[0mr\u001b[0m\u001b[0;34m.\u001b[0m\u001b[0mraw\u001b[0m\u001b[0;34m)\u001b[0m\u001b[0;34m\u001b[0m\u001b[0;34m\u001b[0m\u001b[0m\n\u001b[0m\u001b[1;32m    672\u001b[0m \u001b[0;34m\u001b[0m\u001b[0m\n\u001b[1;32m    673\u001b[0m         \u001b[0;31m# Resolve redirects if allowed.\u001b[0m\u001b[0;34m\u001b[0m\u001b[0;34m\u001b[0m\u001b[0;34m\u001b[0m\u001b[0m\n",
      "\u001b[0;32m~/opt/anaconda3/lib/python3.8/site-packages/requests/cookies.py\u001b[0m in \u001b[0;36mextract_cookies_to_jar\u001b[0;34m(jar, request, response)\u001b[0m\n\u001b[1;32m    130\u001b[0m     \u001b[0;31m# pull out the HTTPMessage with the headers and put it in the mock:\u001b[0m\u001b[0;34m\u001b[0m\u001b[0;34m\u001b[0m\u001b[0;34m\u001b[0m\u001b[0m\n\u001b[1;32m    131\u001b[0m     \u001b[0mres\u001b[0m \u001b[0;34m=\u001b[0m \u001b[0mMockResponse\u001b[0m\u001b[0;34m(\u001b[0m\u001b[0mresponse\u001b[0m\u001b[0;34m.\u001b[0m\u001b[0m_original_response\u001b[0m\u001b[0;34m.\u001b[0m\u001b[0mmsg\u001b[0m\u001b[0;34m)\u001b[0m\u001b[0;34m\u001b[0m\u001b[0;34m\u001b[0m\u001b[0m\n\u001b[0;32m--> 132\u001b[0;31m     \u001b[0mjar\u001b[0m\u001b[0;34m.\u001b[0m\u001b[0mextract_cookies\u001b[0m\u001b[0;34m(\u001b[0m\u001b[0mres\u001b[0m\u001b[0;34m,\u001b[0m \u001b[0mreq\u001b[0m\u001b[0;34m)\u001b[0m\u001b[0;34m\u001b[0m\u001b[0;34m\u001b[0m\u001b[0m\n\u001b[0m\u001b[1;32m    133\u001b[0m \u001b[0;34m\u001b[0m\u001b[0m\n\u001b[1;32m    134\u001b[0m \u001b[0;34m\u001b[0m\u001b[0m\n",
      "\u001b[0;32m~/opt/anaconda3/lib/python3.8/http/cookiejar.py\u001b[0m in \u001b[0;36mextract_cookies\u001b[0;34m(self, response, request)\u001b[0m\n\u001b[1;32m   1681\u001b[0m         \u001b[0;32mtry\u001b[0m\u001b[0;34m:\u001b[0m\u001b[0;34m\u001b[0m\u001b[0;34m\u001b[0m\u001b[0m\n\u001b[1;32m   1682\u001b[0m             \u001b[0;32mfor\u001b[0m \u001b[0mcookie\u001b[0m \u001b[0;32min\u001b[0m \u001b[0mself\u001b[0m\u001b[0;34m.\u001b[0m\u001b[0mmake_cookies\u001b[0m\u001b[0;34m(\u001b[0m\u001b[0mresponse\u001b[0m\u001b[0;34m,\u001b[0m \u001b[0mrequest\u001b[0m\u001b[0;34m)\u001b[0m\u001b[0;34m:\u001b[0m\u001b[0;34m\u001b[0m\u001b[0;34m\u001b[0m\u001b[0m\n\u001b[0;32m-> 1683\u001b[0;31m                 \u001b[0;32mif\u001b[0m \u001b[0mself\u001b[0m\u001b[0;34m.\u001b[0m\u001b[0m_policy\u001b[0m\u001b[0;34m.\u001b[0m\u001b[0mset_ok\u001b[0m\u001b[0;34m(\u001b[0m\u001b[0mcookie\u001b[0m\u001b[0;34m,\u001b[0m \u001b[0mrequest\u001b[0m\u001b[0;34m)\u001b[0m\u001b[0;34m:\u001b[0m\u001b[0;34m\u001b[0m\u001b[0;34m\u001b[0m\u001b[0m\n\u001b[0m\u001b[1;32m   1684\u001b[0m                     \u001b[0m_debug\u001b[0m\u001b[0;34m(\u001b[0m\u001b[0;34m\" setting cookie: %s\"\u001b[0m\u001b[0;34m,\u001b[0m \u001b[0mcookie\u001b[0m\u001b[0;34m)\u001b[0m\u001b[0;34m\u001b[0m\u001b[0;34m\u001b[0m\u001b[0m\n\u001b[1;32m   1685\u001b[0m                     \u001b[0mself\u001b[0m\u001b[0;34m.\u001b[0m\u001b[0mset_cookie\u001b[0m\u001b[0;34m(\u001b[0m\u001b[0mcookie\u001b[0m\u001b[0;34m)\u001b[0m\u001b[0;34m\u001b[0m\u001b[0;34m\u001b[0m\u001b[0m\n",
      "\u001b[0;32m~/opt/anaconda3/lib/python3.8/http/cookiejar.py\u001b[0m in \u001b[0;36mset_ok\u001b[0;34m(self, cookie, request)\u001b[0m\n\u001b[1;32m    954\u001b[0m             \u001b[0mfn_name\u001b[0m \u001b[0;34m=\u001b[0m \u001b[0;34m\"set_ok_\"\u001b[0m\u001b[0;34m+\u001b[0m\u001b[0mn\u001b[0m\u001b[0;34m\u001b[0m\u001b[0;34m\u001b[0m\u001b[0m\n\u001b[1;32m    955\u001b[0m             \u001b[0mfn\u001b[0m \u001b[0;34m=\u001b[0m \u001b[0mgetattr\u001b[0m\u001b[0;34m(\u001b[0m\u001b[0mself\u001b[0m\u001b[0;34m,\u001b[0m \u001b[0mfn_name\u001b[0m\u001b[0;34m)\u001b[0m\u001b[0;34m\u001b[0m\u001b[0;34m\u001b[0m\u001b[0m\n\u001b[0;32m--> 956\u001b[0;31m             \u001b[0;32mif\u001b[0m \u001b[0;32mnot\u001b[0m \u001b[0mfn\u001b[0m\u001b[0;34m(\u001b[0m\u001b[0mcookie\u001b[0m\u001b[0;34m,\u001b[0m \u001b[0mrequest\u001b[0m\u001b[0;34m)\u001b[0m\u001b[0;34m:\u001b[0m\u001b[0;34m\u001b[0m\u001b[0;34m\u001b[0m\u001b[0m\n\u001b[0m\u001b[1;32m    957\u001b[0m                 \u001b[0;32mreturn\u001b[0m \u001b[0;32mFalse\u001b[0m\u001b[0;34m\u001b[0m\u001b[0;34m\u001b[0m\u001b[0m\n\u001b[1;32m    958\u001b[0m \u001b[0;34m\u001b[0m\u001b[0m\n",
      "\u001b[0;32m~/opt/anaconda3/lib/python3.8/http/cookiejar.py\u001b[0m in \u001b[0;36mset_ok_path\u001b[0;34m(self, cookie, request)\u001b[0m\n\u001b[1;32m    997\u001b[0m     \u001b[0;32mdef\u001b[0m \u001b[0mset_ok_path\u001b[0m\u001b[0;34m(\u001b[0m\u001b[0mself\u001b[0m\u001b[0;34m,\u001b[0m \u001b[0mcookie\u001b[0m\u001b[0;34m,\u001b[0m \u001b[0mrequest\u001b[0m\u001b[0;34m)\u001b[0m\u001b[0;34m:\u001b[0m\u001b[0;34m\u001b[0m\u001b[0;34m\u001b[0m\u001b[0m\n\u001b[1;32m    998\u001b[0m         \u001b[0;32mif\u001b[0m \u001b[0mcookie\u001b[0m\u001b[0;34m.\u001b[0m\u001b[0mpath_specified\u001b[0m\u001b[0;34m:\u001b[0m\u001b[0;34m\u001b[0m\u001b[0;34m\u001b[0m\u001b[0m\n\u001b[0;32m--> 999\u001b[0;31m             \u001b[0mreq_path\u001b[0m \u001b[0;34m=\u001b[0m \u001b[0mrequest_path\u001b[0m\u001b[0;34m(\u001b[0m\u001b[0mrequest\u001b[0m\u001b[0;34m)\u001b[0m\u001b[0;34m\u001b[0m\u001b[0;34m\u001b[0m\u001b[0m\n\u001b[0m\u001b[1;32m   1000\u001b[0m             if ((cookie.version > 0 or\n\u001b[1;32m   1001\u001b[0m                  (cookie.version == 0 and self.strict_ns_set_path)) and\n",
      "\u001b[0;32m~/opt/anaconda3/lib/python3.8/http/cookiejar.py\u001b[0m in \u001b[0;36mrequest_path\u001b[0;34m(request)\u001b[0m\n\u001b[1;32m    641\u001b[0m     \u001b[0;34m\"\"\"Path component of request-URI, as defined by RFC 2965.\"\"\"\u001b[0m\u001b[0;34m\u001b[0m\u001b[0;34m\u001b[0m\u001b[0m\n\u001b[1;32m    642\u001b[0m     \u001b[0murl\u001b[0m \u001b[0;34m=\u001b[0m \u001b[0mrequest\u001b[0m\u001b[0;34m.\u001b[0m\u001b[0mget_full_url\u001b[0m\u001b[0;34m(\u001b[0m\u001b[0;34m)\u001b[0m\u001b[0;34m\u001b[0m\u001b[0;34m\u001b[0m\u001b[0m\n\u001b[0;32m--> 643\u001b[0;31m     \u001b[0mparts\u001b[0m \u001b[0;34m=\u001b[0m \u001b[0murllib\u001b[0m\u001b[0;34m.\u001b[0m\u001b[0mparse\u001b[0m\u001b[0;34m.\u001b[0m\u001b[0murlsplit\u001b[0m\u001b[0;34m(\u001b[0m\u001b[0murl\u001b[0m\u001b[0;34m)\u001b[0m\u001b[0;34m\u001b[0m\u001b[0;34m\u001b[0m\u001b[0m\n\u001b[0m\u001b[1;32m    644\u001b[0m     \u001b[0mpath\u001b[0m \u001b[0;34m=\u001b[0m \u001b[0mescape_path\u001b[0m\u001b[0;34m(\u001b[0m\u001b[0mparts\u001b[0m\u001b[0;34m.\u001b[0m\u001b[0mpath\u001b[0m\u001b[0;34m)\u001b[0m\u001b[0;34m\u001b[0m\u001b[0;34m\u001b[0m\u001b[0m\n\u001b[1;32m    645\u001b[0m     \u001b[0;32mif\u001b[0m \u001b[0;32mnot\u001b[0m \u001b[0mpath\u001b[0m\u001b[0;34m.\u001b[0m\u001b[0mstartswith\u001b[0m\u001b[0;34m(\u001b[0m\u001b[0;34m\"/\"\u001b[0m\u001b[0;34m)\u001b[0m\u001b[0;34m:\u001b[0m\u001b[0;34m\u001b[0m\u001b[0;34m\u001b[0m\u001b[0m\n",
      "\u001b[0;32m~/opt/anaconda3/lib/python3.8/urllib/parse.py\u001b[0m in \u001b[0;36murlsplit\u001b[0;34m(url, scheme, allow_fragments)\u001b[0m\n\u001b[1;32m    426\u001b[0m     \u001b[0mcached\u001b[0m \u001b[0;34m=\u001b[0m \u001b[0m_parse_cache\u001b[0m\u001b[0;34m.\u001b[0m\u001b[0mget\u001b[0m\u001b[0;34m(\u001b[0m\u001b[0mkey\u001b[0m\u001b[0;34m,\u001b[0m \u001b[0;32mNone\u001b[0m\u001b[0;34m)\u001b[0m\u001b[0;34m\u001b[0m\u001b[0;34m\u001b[0m\u001b[0m\n\u001b[1;32m    427\u001b[0m     \u001b[0;32mif\u001b[0m \u001b[0mcached\u001b[0m\u001b[0;34m:\u001b[0m\u001b[0;34m\u001b[0m\u001b[0;34m\u001b[0m\u001b[0m\n\u001b[0;32m--> 428\u001b[0;31m         \u001b[0;32mreturn\u001b[0m \u001b[0m_coerce_result\u001b[0m\u001b[0;34m(\u001b[0m\u001b[0mcached\u001b[0m\u001b[0;34m)\u001b[0m\u001b[0;34m\u001b[0m\u001b[0;34m\u001b[0m\u001b[0m\n\u001b[0m\u001b[1;32m    429\u001b[0m     \u001b[0;32mif\u001b[0m \u001b[0mlen\u001b[0m\u001b[0;34m(\u001b[0m\u001b[0m_parse_cache\u001b[0m\u001b[0;34m)\u001b[0m \u001b[0;34m>=\u001b[0m \u001b[0mMAX_CACHE_SIZE\u001b[0m\u001b[0;34m:\u001b[0m \u001b[0;31m# avoid runaway growth\u001b[0m\u001b[0;34m\u001b[0m\u001b[0;34m\u001b[0m\u001b[0m\n\u001b[1;32m    430\u001b[0m         \u001b[0mclear_cache\u001b[0m\u001b[0;34m(\u001b[0m\u001b[0;34m)\u001b[0m\u001b[0;34m\u001b[0m\u001b[0;34m\u001b[0m\u001b[0m\n",
      "\u001b[0;31mKeyboardInterrupt\u001b[0m: "
     ]
    }
   ],
   "source": [
    "for x in range(0,500):\n",
    "    label_list.append(get_wiki_info(wiki_search(song_names[x],artist_names[x])))"
   ]
  },
  {
   "cell_type": "markdown",
   "id": "viral-surgeon",
   "metadata": {},
   "source": [
    "We have our final data set in df! It has been saved to the local data folder for access in a new notebook where we actual models will be made."
   ]
  },
  {
   "cell_type": "code",
   "execution_count": 24,
   "id": "rolled-combination",
   "metadata": {},
   "outputs": [
    {
     "data": {
      "text/plain": [
       "2761"
      ]
     },
     "execution_count": 24,
     "metadata": {},
     "output_type": "execute_result"
    }
   ],
   "source": [
    "len(song_names)"
   ]
  },
  {
   "cell_type": "code",
   "execution_count": null,
   "id": "clinical-diesel",
   "metadata": {},
   "outputs": [],
   "source": [
    "len(label_list)"
   ]
  },
  {
   "cell_type": "code",
   "execution_count": null,
   "id": "expected-falls",
   "metadata": {},
   "outputs": [],
   "source": [
    "label_time_df=pd.DataFrame(label_list)\n",
    "frames=[df,label_time_df]\n",
    "df=pd.concat(frames, axis=1)"
   ]
  },
  {
   "cell_type": "markdown",
   "id": "dependent-choice",
   "metadata": {},
   "source": [
    "##### Make a list of biggest record labels and use this to create a new binary column for if a song was produced by a major label or not. Songs without any label data are assumed to be produced by smaller labels, as major labels will have wikipedia pages for most of their big songs. "
   ]
  },
  {
   "cell_type": "code",
   "execution_count": null,
   "id": "failing-increase",
   "metadata": {},
   "outputs": [],
   "source": [
    "#major labels list found from"
   ]
  },
  {
   "cell_type": "code",
   "execution_count": null,
   "id": "acknowledged-pencil",
   "metadata": {},
   "outputs": [],
   "source": [
    "222,'Interscope','Columbia','Red Hill', 'Atlantic records', 'def jam','warner','republic', 'RCA','island records', 'universal'"
   ]
  },
  {
   "cell_type": "code",
   "execution_count": null,
   "id": "restricted-marshall",
   "metadata": {},
   "outputs": [],
   "source": [
    "# df.to_csv(r'/Users/mehikapatel/MusicHits_Project/data\\Music_Data.csv')"
   ]
  }
 ],
 "metadata": {
  "kernelspec": {
   "display_name": "Python 3",
   "language": "python",
   "name": "python3"
  },
  "language_info": {
   "codemirror_mode": {
    "name": "ipython",
    "version": 3
   },
   "file_extension": ".py",
   "mimetype": "text/x-python",
   "name": "python",
   "nbconvert_exporter": "python",
   "pygments_lexer": "ipython3",
   "version": "3.8.8"
  }
 },
 "nbformat": 4,
 "nbformat_minor": 5
}
