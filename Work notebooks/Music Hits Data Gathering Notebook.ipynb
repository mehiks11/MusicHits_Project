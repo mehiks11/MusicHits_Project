{
 "cells": [
  {
   "cell_type": "markdown",
   "id": "formed-liquid",
   "metadata": {},
   "source": [
    "# Music Hits Linear Regression Project"
   ]
  },
  {
   "cell_type": "markdown",
   "id": "driving-cambodia",
   "metadata": {},
   "source": [
    "#### This notebook will create and test a linear regressions model on billboard 200 charts data, merged with various musical data scraped from wikipedia, notediscover, and spotify's API python package *spotipy*. "
   ]
  },
  {
   "cell_type": "markdown",
   "id": "phantom-cooperation",
   "metadata": {},
   "source": [
    "###### The rundown of the notebook is as follows:\n",
    "\n",
    "1. Importing/Web Scraping all the Data\n",
    "    * Web Scraping Billboard\n",
    "    * Importing Spotify data\n",
    "    * Importing Notediscover data\n",
    "2. Creating a Dataframe with the imported data\n",
    "    * Merging all of our data together on song name\n",
    "3. Cleaning the data and other EDA\n",
    "    * Checking for NULL values\n",
    "    * Investigate outliers\n",
    "4. Fitting a model and visualizations\n",
    "    * fit a linear regression model\n",
    "    * find error values\n",
    "    * provide visualizations\n",
    "5. Testing our model on testing data (Repeating some parts of step 1)\n",
    "    * create a testing dataset\n",
    "    * run a test on our test dataset"
   ]
  },
  {
   "cell_type": "markdown",
   "id": "impressive-satellite",
   "metadata": {},
   "source": [
    "The following code:\n",
    "* Imports necessary libraries and packages for webscraping"
   ]
  },
  {
   "cell_type": "code",
   "execution_count": 375,
   "id": "accurate-input",
   "metadata": {},
   "outputs": [],
   "source": [
    "import requests\n",
    "from bs4 import BeautifulSoup\n",
    "import time, os\n",
    "from selenium import webdriver\n",
    "from selenium.webdriver.common.keys import Keys\n",
    "import pandas as pd\n",
    "import numpy as np"
   ]
  },
  {
   "cell_type": "markdown",
   "id": "bizarre-thompson",
   "metadata": {},
   "source": [
    "### Billboard Data"
   ]
  },
  {
   "cell_type": "code",
   "execution_count": 873,
   "id": "invisible-encoding",
   "metadata": {},
   "outputs": [],
   "source": [
    "URL1= \"https://www.billboard.com/charts/hot-100\"\n",
    "billboard1= requests.get(URL1)\n",
    "\n",
    "URL2=\"https://www.billboard.com/charts/hot-100/2021-03-20\"\n",
    "billboard2= requests.get(URL2)\n",
    "\n",
    "URL3=\"https://www.billboard.com/charts/hot-100/2020-02-20\"\n",
    "billboard3= requests.get(URL3)\n",
    "\n",
    "URL4=\"https://www.billboard.com/charts/hot-100/2019-01-23\"\n",
    "billboard4= requests.get(URL4)\n",
    "\n",
    "URL5=\"https://www.billboard.com/charts/hot-100/2018-12-26\"\n",
    "billboard5= requests.get(URL5)\n",
    "\n",
    "URL6=\"https://www.billboard.com/charts/hot-100/2017-11-28\"\n",
    "billboard6= requests.get(URL6)\n",
    "\n",
    "URL7=\"https://www.billboard.com/charts/hot-100/2020-10-31\"\n",
    "billboard7= requests.get(URL7)\n",
    "\n",
    "URL8=\"https://www.billboard.com/charts/hot-100/2016-10-03\"\n",
    "billboard8= requests.get(URL8)\n",
    "\n",
    "URL9=\"https://www.billboard.com/charts/hot-100/2015-09-05\"\n",
    "billboard9= requests.get(URL9)\n",
    "\n",
    "URL10=\"https://www.billboard.com/charts/hot-100/2014-08-08\"\n",
    "billboard10= requests.get(URL10)\n",
    "\n",
    "\n",
    "URL11=\"https://www.billboard.com/charts/hot-100/2013-07-11\"\n",
    "billboard11= requests.get(URL11)\n",
    "\n",
    "URL12=\"https://www.billboard.com/charts/hot-100/2012-06-13\"\n",
    "billboard12= requests.get(URL12)\n",
    "\n",
    "URL13=\"https://www.billboard.com/charts/hot-100/2011-05-16\"\n",
    "billboard13= requests.get(URL13)\n",
    "\n",
    "URL14=\"https://www.billboard.com/charts/hot-100/2010-04-18\"\n",
    "billboard14= requests.get(URL14)\n",
    "\n",
    "URL15=\"https://www.billboard.com/charts/hot-100/2009-03-21\"\n",
    "billboard15= requests.get(URL15)\n",
    "\n",
    "URL16=\"https://www.billboard.com/charts/hot-100/2008-02-22\"\n",
    "billboard16= requests.get(URL16)\n",
    "\n",
    "URL17=\"https://www.billboard.com/charts/hot-100/2007-02-01\"\n",
    "billboard17= requests.get(URL17)\n",
    "\n",
    "URL18=\"https://www.billboard.com/charts/hot-100/2006-01-04\"\n",
    "billboard18= requests.get(URL18)\n",
    "\n",
    "URL19=\"https://www.billboard.com/charts/hot-100/2005-12-07\"\n",
    "billboard19= requests.get(URL19)\n",
    "\n",
    "URL20=\"https://www.billboard.com/charts/hot-100/2004-11-09\"\n",
    "billboard20= requests.get(URL20)\n",
    "\n",
    "URL21=\"https://www.billboard.com/charts/hot-100/2003-10-12\"\n",
    "billboard21= requests.get(URL21)\n",
    "\n",
    "URL22=\"https://www.billboard.com/charts/hot-100/2002-09-14\"\n",
    "billboard22= requests.get(URL22)\n",
    "\n",
    "URL23=\"https://www.billboard.com/charts/hot-100/2001-08-17\"\n",
    "billboard23= requests.get(URL23)\n",
    "\n",
    "URL24=\"https://www.billboard.com/charts/hot-100/2000-07-20\"\n",
    "billboard24= requests.get(URL24)\n",
    "\n",
    "URL25=\"https://www.billboard.com/charts/hot-100/1999-06-22\"\n",
    "billboard25= requests.get(URL25)\n",
    "\n",
    "URL26=\"https://www.billboard.com/charts/hot-100/2000-05-25\"\n",
    "billboard26= requests.get(URL26)\n",
    "\n",
    "URL27=\"https://www.billboard.com/charts/hot-100/2001-04-27\"\n",
    "billboard27= requests.get(URL27)\n",
    "\n",
    "URL28=\"https://www.billboard.com/charts/hot-100/2002-03-30\"\n",
    "billboard28= requests.get(URL28)\n",
    "\n",
    "URL29=\"https://www.billboard.com/charts/hot-100/2003-03-02\"\n",
    "billboard29= requests.get(URL29)\n",
    "\n",
    "URL30=\"https://www.billboard.com/charts/hot-100/2004-02-09\"\n",
    "billboard30= requests.get(URL30)"
   ]
  },
  {
   "cell_type": "code",
   "execution_count": 874,
   "id": "tracked-status",
   "metadata": {},
   "outputs": [],
   "source": [
    "soup1=BeautifulSoup(billboard1.content, 'html.parser')\n",
    "soup2=BeautifulSoup(billboard2.content, 'html.parser')\n",
    "soup3=BeautifulSoup(billboard3.content, 'html.parser')\n",
    "soup4=BeautifulSoup(billboard4.content, 'html.parser')\n",
    "soup5=BeautifulSoup(billboard5.content, 'html.parser')\n",
    "soup6=BeautifulSoup(billboard6.content, 'html.parser')\n",
    "soup7=BeautifulSoup(billboard7.content, 'html.parser')\n",
    "soup8=BeautifulSoup(billboard8.content, 'html.parser')\n",
    "soup9=BeautifulSoup(billboard9.content, 'html.parser')\n",
    "soup10=BeautifulSoup(billboard10.content, 'html.parser')\n",
    "\n",
    "soup11=BeautifulSoup(billboard11.content, 'html.parser')\n",
    "soup12=BeautifulSoup(billboard12.content, 'html.parser')\n",
    "soup13=BeautifulSoup(billboard13.content, 'html.parser')\n",
    "soup14=BeautifulSoup(billboard14.content, 'html.parser')\n",
    "soup15=BeautifulSoup(billboard15.content, 'html.parser')\n",
    "soup16=BeautifulSoup(billboard16.content, 'html.parser')\n",
    "soup17=BeautifulSoup(billboard17.content, 'html.parser')\n",
    "soup18=BeautifulSoup(billboard18.content, 'html.parser')\n",
    "soup19=BeautifulSoup(billboard19.content, 'html.parser')\n",
    "soup20=BeautifulSoup(billboard20.content, 'html.parser')\n",
    "\n",
    "soup21=BeautifulSoup(billboard21.content, 'html.parser')\n",
    "soup22=BeautifulSoup(billboard22.content, 'html.parser')\n",
    "soup23=BeautifulSoup(billboard23.content, 'html.parser')\n",
    "soup24=BeautifulSoup(billboard24.content, 'html.parser')\n",
    "soup25=BeautifulSoup(billboard25.content, 'html.parser')\n",
    "soup26=BeautifulSoup(billboard26.content, 'html.parser')\n",
    "soup27=BeautifulSoup(billboard27.content, 'html.parser')\n",
    "soup28=BeautifulSoup(billboard28.content, 'html.parser')\n",
    "soup29=BeautifulSoup(billboard29.content, 'html.parser')\n",
    "soup30=BeautifulSoup(billboard30.content, 'html.parser')"
   ]
  },
  {
   "cell_type": "code",
   "execution_count": 876,
   "id": "proprietary-sending",
   "metadata": {},
   "outputs": [],
   "source": [
    "URL31=\"https://www.billboard.com/charts/hot-100/2005-01-12\"\n",
    "billboard31= requests.get(URL31)\n",
    "\n",
    "URL32=\"https://www.billboard.com/charts/hot-100/2006-12-15\"\n",
    "billboard32= requests.get(URL32)\n",
    "\n",
    "URL33=\"https://www.billboard.com/charts/hot-100/2007-11-17\"\n",
    "billboard33= requests.get(URL33)\n",
    "\n",
    "URL34=\"https://www.billboard.com/charts/hot-100/2008-10-20\"\n",
    "billboard34= requests.get(URL34)\n",
    "\n",
    "URL35=\"https://www.billboard.com/charts/hot-100/2009-09-22\"\n",
    "billboard35= requests.get(URL35)\n",
    "\n",
    "URL36=\"https://www.billboard.com/charts/hot-100/2010-08-25\"\n",
    "billboard36= requests.get(URL36)\n",
    "\n",
    "URL37=\"https://www.billboard.com/charts/hot-100/2011-07-28\"\n",
    "billboard37= requests.get(URL37)\n",
    "\n",
    "URL38=\"https://www.billboard.com/charts/hot-100/2012-06-30\"\n",
    "billboard38= requests.get(URL38)\n",
    "\n",
    "URL39=\"https://www.billboard.com/charts/hot-100/2013-06-02\"\n",
    "billboard39= requests.get(URL39)\n",
    "\n",
    "URL40=\"https://www.billboard.com/charts/hot-100/2014-05-05\"\n",
    "billboard40= requests.get(URL40)\n",
    "\n",
    "URL41=\"https://www.billboard.com/charts/hot-100/2015-04-07\"\n",
    "billboard41= requests.get(URL41)\n",
    "\n",
    "URL42=\"https://www.billboard.com/charts/hot-100/2016-02-09\"\n",
    "billboard42= requests.get(URL42)\n",
    "\n",
    "URL43=\"https://www.billboard.com/charts/hot-100/2017-03-10\"\n",
    "billboard43= requests.get(URL43)\n",
    "\n",
    "URL44=\"https://www.billboard.com/charts/hot-100/2018-02-03\"\n",
    "billboard44= requests.get(URL44)\n",
    "\n",
    "URL45=\"https://www.billboard.com/charts/hot-100/2019-01-06\"\n",
    "billboard45= requests.get(URL45)\n",
    "\n",
    "URL46=\"https://www.billboard.com/charts/hot-100/2020-02-09\"\n",
    "billboard46= requests.get(URL46)\n",
    "\n",
    "URL47=\"https://www.billboard.com/charts/hot-100/1999-12-09\"\n",
    "billboard47= requests.get(URL47)\n",
    "\n",
    "URL48=\"https://www.billboard.com/charts/hot-100/20016-11-11\"\n",
    "billboard48= requests.get(URL48)\n",
    "\n",
    "URL49=\"https://www.billboard.com/charts/hot-100/2017-10-14\"\n",
    "billboard49= requests.get(URL49)\n",
    "\n",
    "URL50=\"https://www.billboard.com/charts/hot-100/2019-09-16\"\n",
    "billboard50= requests.get(URL50)"
   ]
  },
  {
   "cell_type": "code",
   "execution_count": 877,
   "id": "prostate-istanbul",
   "metadata": {},
   "outputs": [],
   "source": [
    "soup31=BeautifulSoup(billboard31.content, 'html.parser')\n",
    "soup32=BeautifulSoup(billboard32.content, 'html.parser')\n",
    "soup33=BeautifulSoup(billboard33.content, 'html.parser')\n",
    "soup34=BeautifulSoup(billboard34.content, 'html.parser')\n",
    "soup35=BeautifulSoup(billboard35.content, 'html.parser')\n",
    "soup36=BeautifulSoup(billboard36.content, 'html.parser')\n",
    "soup37=BeautifulSoup(billboard37.content, 'html.parser')\n",
    "soup38=BeautifulSoup(billboard38.content, 'html.parser')\n",
    "soup39=BeautifulSoup(billboard39.content, 'html.parser')\n",
    "soup40=BeautifulSoup(billboard40.content, 'html.parser')\n",
    "\n",
    "soup41=BeautifulSoup(billboard41.content, 'html.parser')\n",
    "soup42=BeautifulSoup(billboard42.content, 'html.parser')\n",
    "soup43=BeautifulSoup(billboard43.content, 'html.parser')\n",
    "soup44=BeautifulSoup(billboard44.content, 'html.parser')\n",
    "soup45=BeautifulSoup(billboard45.content, 'html.parser')\n",
    "soup46=BeautifulSoup(billboard46.content, 'html.parser')\n",
    "soup47=BeautifulSoup(billboard47.content, 'html.parser')\n",
    "soup48=BeautifulSoup(billboard48.content, 'html.parser')\n",
    "soup49=BeautifulSoup(billboard49.content, 'html.parser')\n",
    "soup50=BeautifulSoup(billboard50.content, 'html.parser')\n"
   ]
  },
  {
   "cell_type": "code",
   "execution_count": 878,
   "id": "extra-senior",
   "metadata": {},
   "outputs": [],
   "source": [
    "#make function to find name of song,artist,the peak ranking,  \n",
    "\n",
    "def find_bill_data(pagee):  \n",
    "    song_names=[]\n",
    "    song_data=[]\n",
    "    artist_names=[]\n",
    "    peaks=[]\n",
    "    \n",
    "    song_list=pagee.find_all(class_=\"chart-element__information__song text--truncate color--primary\")\n",
    "    for song in song_list:\n",
    "        song_names.append(song.text)\n",
    "\n",
    "    artist_list=pagee.find_all(class_=\"chart-element__information__artist text--truncate color--secondary\")\n",
    "    for artist in artist_list:\n",
    "        artist_names.append(artist.text)\n",
    "    \n",
    "    peak_list=pagee.find_all(class_=\"chart-element__information__delta__text text--peak\")\n",
    "    for peak in peak_list:\n",
    "        peaks.append(peak.text[0])\n",
    "    \n",
    "    for i in range(len(song_list)):\n",
    "        song_data.append({'name':song_names[i],'artist':artist_names[i],'peak':peaks[i]})\n",
    "        \n",
    "    return song_data"
   ]
  },
  {
   "cell_type": "code",
   "execution_count": 879,
   "id": "furnished-mason",
   "metadata": {},
   "outputs": [],
   "source": [
    "#iterate functions through all pages to make final list of dictionaries of entries\n",
    "billboard_soups= [soup1,soup2,soup3,soup4,soup5,soup6,soup7,\n",
    "                  soup8,soup9,soup10,soup11,soup12,soup13,\n",
    "                  soup14,soup15,soup16,soup17,soup18,soup19,\n",
    "                  soup20,soup21,soup22,soup23,soup24,soup25,\n",
    "                  soup26,soup27,soup28,soup29,soup30,soup31,\n",
    "                  soup32,soup33,soup34,soup35,soup36,soup37,\n",
    "                 soup38,soup39,soup40,soup41,soup42,soup43,soup44,\n",
    "                 soup45,soup46,soup47,soup48,soup49,soup50]\n",
    "bills_list=[]\n",
    "\n",
    "for page in billboard_soups:\n",
    "    bills_list.extend(find_bill_data(page))"
   ]
  },
  {
   "cell_type": "code",
   "execution_count": 880,
   "id": "passing-worker",
   "metadata": {},
   "outputs": [
    {
     "data": {
      "text/plain": [
       "2200"
      ]
     },
     "execution_count": 880,
     "metadata": {},
     "output_type": "execute_result"
    }
   ],
   "source": [
    "len(bills_list)"
   ]
  },
  {
   "cell_type": "code",
   "execution_count": null,
   "id": "adult-modification",
   "metadata": {},
   "outputs": [],
   "source": []
  },
  {
   "cell_type": "code",
   "execution_count": 863,
   "id": "charming-directive",
   "metadata": {},
   "outputs": [],
   "source": [
    "#create an initial dataframe\n",
    "df_names=pd.DataFrame(bills_list)"
   ]
  },
  {
   "cell_type": "code",
   "execution_count": 866,
   "id": "jewish-peripheral",
   "metadata": {},
   "outputs": [],
   "source": [
    "# df_names.to_csv(r'/Users/mehikapatel/MusicHits_Project/data\\Music_Data.csv')"
   ]
  },
  {
   "cell_type": "markdown",
   "id": "collected-monitor",
   "metadata": {},
   "source": [
    "#### Set up selenium and chromedriver for automated iterations in web scraping"
   ]
  },
  {
   "cell_type": "markdown",
   "id": "interesting-arrival",
   "metadata": {},
   "source": [
    "The following code: \n",
    "* Sets up chrome driver "
   ]
  },
  {
   "cell_type": "code",
   "execution_count": 714,
   "id": "former-sweden",
   "metadata": {},
   "outputs": [],
   "source": [
    "from selenium import webdriver\n",
    "from selenium.webdriver.common.keys import Keys\n",
    "\n",
    "chromedriver = \"/Applications/chromedriver\" # path to the chromedriver executable\n",
    "os.environ[\"webdriver.chrome.driver\"] = chromedriver"
   ]
  },
  {
   "cell_type": "code",
   "execution_count": 715,
   "id": "liberal-details",
   "metadata": {},
   "outputs": [],
   "source": [
    "wiki_url=\"https://www.wikipedia.org\"\n",
    "driver = webdriver.Chrome(chromedriver)\n",
    "driver.get(wiki_url)"
   ]
  },
  {
   "cell_type": "markdown",
   "id": "actual-basket",
   "metadata": {},
   "source": [
    "The following code:\n",
    "* Sets up a function to search and go to a song's wikipedia page. This will eventually be used in a loop to get genre information."
   ]
  },
  {
   "cell_type": "code",
   "execution_count": 628,
   "id": "abroad-hebrew",
   "metadata": {},
   "outputs": [],
   "source": [
    "#function for going to a song's page on wiki\n",
    "\n",
    "def wiki_search(song_name,artist_name): \n",
    "    search_box = driver.find_element_by_xpath(\"//input[@type='search']\")\n",
    "    #clear the current search\n",
    "    search_box.clear()\n",
    "    #input new search\n",
    "    search_box.send_keys(song_name + ' '+ artist_name + \" song\")\n",
    "    #hit enter\n",
    "    search_box.send_keys(Keys.RETURN) \n",
    "    #get html of page\n",
    "    req=requests.get(driver.current_url)\n",
    "    soup=BeautifulSoup(req.content,'html.parser')\n",
    "    #get first link and go there\n",
    "    first_link= soup.find('ul', class_=\"mw-search-results\").find('li',class_=\"mw-search-result\").find('a')['href']\n",
    "    driver.get('https://www.wikipedia.org'+first_link)\n",
    "    return 'https://www.wikipedia.org'+first_link"
   ]
  },
  {
   "cell_type": "markdown",
   "id": "physical-dairy",
   "metadata": {},
   "source": [
    "The following code:\n",
    "* Sets up the function to actually pull the data ocne on the song's wikipedia page. "
   ]
  },
  {
   "cell_type": "code",
   "execution_count": 629,
   "id": "practical-international",
   "metadata": {},
   "outputs": [],
   "source": [
    "#function to obtain genre and record label from wikipedia\n",
    "def get_wiki_info(URL):\n",
    "    page=requests.get(URL)\n",
    "    soup = BeautifulSoup(page.content, 'html.parser')\n",
    "    return_dict={}\n",
    "    #length from wikipedia\n",
    "    if 'class=\"infobox-data hlist\"' in str(soup):\n",
    "        labels_broad=soup.find(class_=\"infobox-data hlist\")\n",
    "        if 'class=\"hlist hlist-separated\"' in labels_broad.text:\n",
    "            label= labels_broad.find(class_=\"hlist hlist-separated\")[0].text,\n",
    "        elif '<a' in labels_broad.text:\n",
    "            label= labels_broad.find('a').text\n",
    "        else:\n",
    "            label= labels_broad.text\n",
    "        return_dict['label']=label\n",
    "    return return_dict"
   ]
  },
  {
   "cell_type": "markdown",
   "id": "nominated-prompt",
   "metadata": {},
   "source": [
    "The following code:\n",
    "* Loops through the song names and appends information from wikipedia onto a list that will then be turned into a dataframe."
   ]
  },
  {
   "cell_type": "code",
   "execution_count": 634,
   "id": "pretty-productivity",
   "metadata": {},
   "outputs": [
    {
     "data": {
      "text/plain": [
       "'Mooski'"
      ]
     },
     "execution_count": 634,
     "metadata": {},
     "output_type": "execute_result"
    }
   ],
   "source": [
    "artist_names[46]"
   ]
  },
  {
   "cell_type": "code",
   "execution_count": 731,
   "id": "initial-nursery",
   "metadata": {},
   "outputs": [
    {
     "ename": "IndexError",
     "evalue": "list index out of range",
     "output_type": "error",
     "traceback": [
      "\u001b[0;31m---------------------------------------------------------------------------\u001b[0m",
      "\u001b[0;31mIndexError\u001b[0m                                Traceback (most recent call last)",
      "\u001b[0;32m<ipython-input-731-cd6f6444848f>\u001b[0m in \u001b[0;36m<module>\u001b[0;34m\u001b[0m\n\u001b[1;32m      1\u001b[0m \u001b[0;32mfor\u001b[0m \u001b[0mx\u001b[0m \u001b[0;32min\u001b[0m \u001b[0mrange\u001b[0m\u001b[0;34m(\u001b[0m\u001b[0;36m2899\u001b[0m\u001b[0;34m,\u001b[0m\u001b[0mlen\u001b[0m\u001b[0;34m(\u001b[0m\u001b[0msong_names\u001b[0m\u001b[0;34m)\u001b[0m\u001b[0;34m+\u001b[0m\u001b[0;36m1\u001b[0m\u001b[0;34m)\u001b[0m\u001b[0;34m:\u001b[0m\u001b[0;34m\u001b[0m\u001b[0;34m\u001b[0m\u001b[0m\n\u001b[0;32m----> 2\u001b[0;31m     \u001b[0mlabel_list\u001b[0m\u001b[0;34m.\u001b[0m\u001b[0mappend\u001b[0m\u001b[0;34m(\u001b[0m\u001b[0mget_wiki_info\u001b[0m\u001b[0;34m(\u001b[0m\u001b[0mwiki_search\u001b[0m\u001b[0;34m(\u001b[0m\u001b[0msong_names\u001b[0m\u001b[0;34m[\u001b[0m\u001b[0mx\u001b[0m\u001b[0;34m]\u001b[0m\u001b[0;34m,\u001b[0m\u001b[0martist_names\u001b[0m\u001b[0;34m[\u001b[0m\u001b[0mx\u001b[0m\u001b[0;34m]\u001b[0m\u001b[0;34m)\u001b[0m\u001b[0;34m)\u001b[0m\u001b[0;34m)\u001b[0m\u001b[0;34m\u001b[0m\u001b[0;34m\u001b[0m\u001b[0m\n\u001b[0m",
      "\u001b[0;31mIndexError\u001b[0m: list index out of range"
     ]
    }
   ],
   "source": [
    "for x in range(2899,len(song_names)+1):\n",
    "    label_list.append(get_wiki_info(wiki_search(song_names[x],artist_names[x])))"
   ]
  },
  {
   "cell_type": "code",
   "execution_count": 727,
   "id": "negative-finland",
   "metadata": {},
   "outputs": [
    {
     "data": {
      "text/plain": [
       "2899"
      ]
     },
     "execution_count": 727,
     "metadata": {},
     "output_type": "execute_result"
    }
   ],
   "source": [
    "len(label_list)"
   ]
  },
  {
   "cell_type": "markdown",
   "id": "miniature-terrace",
   "metadata": {},
   "source": [
    "The following code:\n",
    "* Saves our label information as a data frame"
   ]
  },
  {
   "cell_type": "code",
   "execution_count": 767,
   "id": "flush-fetish",
   "metadata": {},
   "outputs": [],
   "source": [
    "label_time_df=pd.DataFrame(label_list)\n"
   ]
  },
  {
   "cell_type": "code",
   "execution_count": 768,
   "id": "domestic-milwaukee",
   "metadata": {},
   "outputs": [],
   "source": [
    "frames= [df_names,label_time_df]"
   ]
  },
  {
   "cell_type": "code",
   "execution_count": 769,
   "id": "valuable-produce",
   "metadata": {},
   "outputs": [],
   "source": [
    "df=pd.concat(frames, axis=1)"
   ]
  },
  {
   "cell_type": "markdown",
   "id": "therapeutic-rally",
   "metadata": {},
   "source": [
    "The following code:\n",
    "* Saves the data to a csv file onto local host for easier access. It is commented out right now as it has already been saved."
   ]
  },
  {
   "cell_type": "code",
   "execution_count": 861,
   "id": "physical-observer",
   "metadata": {},
   "outputs": [],
   "source": [
    "# save df data to csv file on computer for easier access in new notebook\n",
    "# df.to_csv(r'/Users/mehikapatel/MusicHits_Project/data\\Music_Data.csv')\n"
   ]
  },
  {
   "cell_type": "markdown",
   "id": "threaded-athletics",
   "metadata": {},
   "source": [
    "### Pulling data from spotify using spotipy"
   ]
  },
  {
   "cell_type": "markdown",
   "id": "owned-express",
   "metadata": {},
   "source": [
    "The following code:\n",
    "* imports spotipy library and logs in with spotify client credentials"
   ]
  },
  {
   "cell_type": "code",
   "execution_count": 867,
   "id": "internal-pulse",
   "metadata": {},
   "outputs": [],
   "source": [
    "#setting up Spotipy for spotify importing\n",
    "import spotipy\n",
    "from spotipy.oauth2 import SpotifyClientCredentials\n",
    "import json\n",
    "\n",
    "client_id='65345a7007f24e969de028910a832395'\n",
    "client_secret='1e7eab7392d947039426ecd1a5ec56c2'\n",
    "spotify = spotipy.Spotify(client_credentials_manager=SpotifyClientCredentials(client_id,client_secret))"
   ]
  },
  {
   "cell_type": "markdown",
   "id": "brazilian-russell",
   "metadata": {},
   "source": [
    "The following code:\n",
    "* Defines a function to pull the artist id and track id for spotipy purposes."
   ]
  },
  {
   "cell_type": "code",
   "execution_count": 868,
   "id": "center-imagination",
   "metadata": {},
   "outputs": [],
   "source": [
    "# to get spotify links for each song:\n",
    "def spotify_search(song,artist): \n",
    "    returns=[]\n",
    "    track_id = spotify.search(q='artist:' + artist + ' track:' + song, type='track')\n",
    "    #gets link for artist page\n",
    "    returns.append(track_id['tracks']['items'][0]['album']['artists'][0]['external_urls']['spotify'])\n",
    "    #gets link for song\n",
    "    returns.append(track_id['tracks']['items'][0]['external_urls']['spotify'])\n",
    "    return returns"
   ]
  },
  {
   "cell_type": "markdown",
   "id": "elect-december",
   "metadata": {},
   "source": [
    "The following code:\n",
    "* Runs through the songs/artists lists and uses the spotify ids to grab artist information and track information."
   ]
  },
  {
   "cell_type": "code",
   "execution_count": 869,
   "id": "optimum-metabolism",
   "metadata": {},
   "outputs": [],
   "source": [
    "def get_spotify_info(song,artist):\n",
    "    song_info={}\n",
    "\n",
    "    #artist info\n",
    "    song_info['song']= song\n",
    "    song_info['artist']=spotify.artist(spotify_search(song,artist)[0])['name']\n",
    "    song_info['followers']=spotify.artist(spotify_search(song,artist)[0])['followers']['total']\n",
    "    song_info['image']=spotify.artist(spotify_search(song,artist)[0])['images'][0]['url']\n",
    "    song_info['popularity']=spotify.artist(spotify_search(song,artist)[0])['popularity']\n",
    "    #audio info\n",
    "    song_info['danceability']=spotify.audio_features(spotify_search(song,artist)[1])[0]['danceability']\n",
    "    song_info['energy']=spotify.audio_features(spotify_search(song,artist)[1])[0]['energy']\n",
    "    song_info['key']=spotify.audio_features(spotify_search(song,artist)[1])[0]['key']\n",
    "    song_info['loudness']=spotify.audio_features(spotify_search(song,artist)[1])[0]['loudness']\n",
    "    song_info['mode']=spotify.audio_features(spotify_search(song,artist)[1])[0]['mode']\n",
    "    song_info['speechiness']=spotify.audio_features(spotify_search(song,artist)[1])[0]['speechiness']\n",
    "    song_info['acousticness']=spotify.audio_features(spotify_search(song,artist)[1])[0]['acousticness']\n",
    "    song_info['instrumentalness']=spotify.audio_features(spotify_search(song,artist)[1])[0]['instrumentalness']\n",
    "    song_info['liveness']=spotify.audio_features(spotify_search(song,artist)[1])[0]['liveness']\n",
    "    song_info['valence']=spotify.audio_features(spotify_search(song,artist)[1])[0]['valence']\n",
    "    song_info['tempo']=spotify.audio_features(spotify_search(song,artist)[1])[0]['tempo']\n",
    "    song_info['duration_ms']=spotify.audio_features(spotify_search(song,artist)[1])[0]['duration_ms']\n",
    "    song_info['time_signature']=spotify.audio_features(spotify_search(song,artist)[1])[0]['time_signature']\n",
    "    return song_info\n",
    "\n",
    "        "
   ]
  },
  {
   "cell_type": "code",
   "execution_count": 645,
   "id": "substantial-ground",
   "metadata": {},
   "outputs": [],
   "source": [
    "# spotify.artist('https://open.spotify.com/artist/1uNFoZAHBGtllmzznpCI3s')\n",
    "\n",
    "# spotify.audio_features('https://open.spotify.com/track/4iJyoBOLtHqaGxP12qzhQI')[0]"
   ]
  },
  {
   "cell_type": "markdown",
   "id": "rising-transition",
   "metadata": {},
   "source": [
    "The following code: \n",
    "* Loops through the songs and artist lists and pulls the information in. Each song and its information are saved in its own dictionary and the final result will be a long list of dictionaries with song information."
   ]
  },
  {
   "cell_type": "code",
   "execution_count": 872,
   "id": "limiting-research",
   "metadata": {},
   "outputs": [
    {
     "data": {
      "text/plain": [
       "500"
      ]
     },
     "execution_count": 872,
     "metadata": {},
     "output_type": "execute_result"
    }
   ],
   "source": [
    "# get_spotify_info(song_names[3],artist_names[3])\n",
    "\n",
    "# get_spotify_info(song_names[2],new_artists_list[2])\n",
    "# spotify_search('leave the door open','silk sonic')\n",
    "len(artist_names)"
   ]
  },
  {
   "cell_type": "code",
   "execution_count": 870,
   "id": "elect-sally",
   "metadata": {},
   "outputs": [],
   "source": [
    "# spotify_song_info_list=[]\n",
    "# new_artists_list=[]\n",
    "\n",
    "for artist in artist_names:\n",
    "    word_count=artist.count(' ')\n",
    "    if word_count>2:\n",
    "        a=artist.split(' ',1)[0]\n",
    "        b=artist.split(' ',2)[1]\n",
    "        new= a+ ' ' + b\n",
    "        new_artists_list.append(new)\n",
    "    else:\n",
    "        new_artists_list.append(artist)\n"
   ]
  },
  {
   "cell_type": "code",
   "execution_count": 771,
   "id": "handed-consideration",
   "metadata": {},
   "outputs": [],
   "source": [
    "for i in range(1500,2000):\n",
    "    try:\n",
    "        spotify_song_info_list.append(get_spotify_info(song_names[i],new_artists_list[i]))\n",
    "    except IndexError:\n",
    "        continue"
   ]
  },
  {
   "cell_type": "code",
   "execution_count": 772,
   "id": "fabulous-procurement",
   "metadata": {},
   "outputs": [
    {
     "data": {
      "text/plain": [
       "1898"
      ]
     },
     "execution_count": 772,
     "metadata": {},
     "output_type": "execute_result"
    }
   ],
   "source": [
    "len(spotify_song_info_list)"
   ]
  },
  {
   "cell_type": "code",
   "execution_count": 774,
   "id": "appropriate-cambridge",
   "metadata": {},
   "outputs": [
    {
     "data": {
      "text/plain": [
       "{'song': 'What If I Never Get Over You',\n",
       " 'artist': 'Lady A',\n",
       " 'followers': 3230489,\n",
       " 'image': 'https://i.scdn.co/image/5c590ad381d6b5a0eea6d9f8d5ea353573852cd2',\n",
       " 'popularity': 74,\n",
       " 'danceability': 0.576,\n",
       " 'energy': 0.724,\n",
       " 'key': 0,\n",
       " 'loudness': -5.147,\n",
       " 'mode': 1,\n",
       " 'speechiness': 0.0274,\n",
       " 'acousticness': 0.016,\n",
       " 'instrumentalness': 0,\n",
       " 'liveness': 0.107,\n",
       " 'valence': 0.34,\n",
       " 'tempo': 93.029,\n",
       " 'duration_ms': 206598,\n",
       " 'time_signature': 4}"
      ]
     },
     "execution_count": 774,
     "metadata": {},
     "output_type": "execute_result"
    }
   ],
   "source": [
    "spotify_song_info_list[-2]"
   ]
  },
  {
   "cell_type": "code",
   "execution_count": null,
   "id": "elder-preference",
   "metadata": {},
   "outputs": [],
   "source": []
  },
  {
   "cell_type": "markdown",
   "id": "blank-disco",
   "metadata": {},
   "source": [
    "The following code:\n",
    "* Turns the Spotify song information list into a pandas dataframe.\n",
    "* Saves the data to local host for easier access"
   ]
  },
  {
   "cell_type": "code",
   "execution_count": null,
   "id": "authorized-approval",
   "metadata": {},
   "outputs": [],
   "source": [
    "len(spotify_song_info_list)"
   ]
  },
  {
   "cell_type": "code",
   "execution_count": null,
   "id": "competent-surgeon",
   "metadata": {},
   "outputs": [],
   "source": [
    "spdf=pd.DataFrame(spotify_song_info_list)"
   ]
  },
  {
   "cell_type": "code",
   "execution_count": null,
   "id": "entire-colonial",
   "metadata": {},
   "outputs": [],
   "source": [
    "spdf.to_csv(r'/Users/mehikapatel/MusicHits_Project/data\\Spotify_Data.csv')"
   ]
  },
  {
   "cell_type": "markdown",
   "id": "caroline-boulder",
   "metadata": {},
   "source": []
  },
  {
   "cell_type": "code",
   "execution_count": null,
   "id": "champion-hotel",
   "metadata": {},
   "outputs": [],
   "source": []
  },
  {
   "cell_type": "code",
   "execution_count": null,
   "id": "separated-triumph",
   "metadata": {},
   "outputs": [],
   "source": []
  }
 ],
 "metadata": {
  "kernelspec": {
   "display_name": "Python 3",
   "language": "python",
   "name": "python3"
  },
  "language_info": {
   "codemirror_mode": {
    "name": "ipython",
    "version": 3
   },
   "file_extension": ".py",
   "mimetype": "text/x-python",
   "name": "python",
   "nbconvert_exporter": "python",
   "pygments_lexer": "ipython3",
   "version": "3.8.8"
  }
 },
 "nbformat": 4,
 "nbformat_minor": 5
}
