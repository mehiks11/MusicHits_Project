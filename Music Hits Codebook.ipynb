{
 "cells": [
  {
   "cell_type": "markdown",
   "id": "demographic-sunday",
   "metadata": {},
   "source": [
    "# Music Hits Linear Regression Project"
   ]
  },
  {
   "cell_type": "markdown",
   "id": "accredited-overhead",
   "metadata": {},
   "source": [
    "#### This notebook will create and test a linear regressions model on billboard 200 charts data, merged with various musical data scraped from wikipedia, notediscover, and spotify's API python package *spotipy*. "
   ]
  },
  {
   "cell_type": "markdown",
   "id": "perfect-standing",
   "metadata": {},
   "source": [
    "###### The rundown of the notebook is as follows:\n",
    "\n",
    "1. Importing/Web Scraping all the Data\n",
    "    * Web Scraping Billboard\n",
    "    * Importing Spotify data\n",
    "    * Importing Notediscover data\n",
    "2. Creating a Dataframe with the imported data\n",
    "    * Merging all of our data together on song name\n",
    "3. Cleaning the data and other EDA\n",
    "    * Checking for NULL values\n",
    "    * Investigate outliers\n",
    "4. Fitting a model and visualizations\n",
    "    * fit a linear regression model\n",
    "    * find error values\n",
    "    * provide visualizations\n",
    "5. Testing our model on testing data (Repeating some parts of step 1)\n",
    "    * create a testing dataset\n",
    "    * run a test on our test dataset"
   ]
  },
  {
   "cell_type": "markdown",
   "id": "stone-celebration",
   "metadata": {},
   "source": [
    "The following code:\n",
    "* Imports necessary libraries and packages for webscraping"
   ]
  },
  {
   "cell_type": "code",
   "execution_count": 4,
   "id": "accurate-input",
   "metadata": {},
   "outputs": [],
   "source": [
    "import requests\n",
    "from bs4 import BeautifulSoup\n",
    "import time, os\n",
    "from selenium import webdriver\n",
    "from selenium.webdriver.common.keys import Keys"
   ]
  },
  {
   "cell_type": "code",
   "execution_count": null,
   "id": "portuguese-programming",
   "metadata": {},
   "outputs": [],
   "source": []
  },
  {
   "cell_type": "markdown",
   "id": "solved-ladder",
   "metadata": {},
   "source": []
  },
  {
   "cell_type": "code",
   "execution_count": 60,
   "id": "handed-nomination",
   "metadata": {},
   "outputs": [
    {
     "data": {
      "text/plain": [
       "['Hip hop', 'electropop']"
      ]
     },
     "execution_count": 60,
     "metadata": {},
     "output_type": "execute_result"
    }
   ],
   "source": [
    "URL=\"https://en.wikipedia.org/wiki/Montero_(Call_Me_by_Your_Name)\"\n",
    "page=requests.get(URL)\n",
    "\n",
    "soup = BeautifulSoup(page.content, 'html.parser')\n",
    "\n",
    "#Genre from wikipedia\n",
    "\n",
    "genre=soup.find(class_=\"infobox vevent\").find(\"a\", title= \"Music genre\").find_all(\"a\")\n",
    "\n",
    "genre2=soup.find(class_=\"infobox-data category hlist\").find(class_=\"hlist hlist-separated\").find_all(\"a\")\n",
    "\n",
    "genres=[]\n",
    "\n",
    "for item in genre2:\n",
    "    genres.append(item.text)\n",
    "    \n",
    "\n",
    "#class= hlist hlist-separated when there are more than one genre listed\n",
    "\n",
    "genres"
   ]
  },
  {
   "cell_type": "markdown",
   "id": "medium-oakland",
   "metadata": {},
   "source": [
    "#### Set up selenium and chromedriver for automated iterations in web scraping"
   ]
  },
  {
   "cell_type": "markdown",
   "id": "muslim-biodiversity",
   "metadata": {},
   "source": [
    "The following code: \n",
    "* Sets up chrome driver "
   ]
  },
  {
   "cell_type": "code",
   "execution_count": null,
   "id": "modern-singing",
   "metadata": {},
   "outputs": [],
   "source": []
  },
  {
   "cell_type": "markdown",
   "id": "dietary-expense",
   "metadata": {},
   "source": [
    "### Pulling data from Billboard"
   ]
  },
  {
   "cell_type": "code",
   "execution_count": null,
   "id": "adjusted-assessment",
   "metadata": {},
   "outputs": [],
   "source": []
  },
  {
   "cell_type": "markdown",
   "id": "valuable-thomas",
   "metadata": {},
   "source": [
    "### Pulling data from spotify using spotipy"
   ]
  },
  {
   "cell_type": "markdown",
   "id": "spoken-tracker",
   "metadata": {},
   "source": [
    "The following code:\n",
    "* imports spotipy library and logs in with spotify client credentials"
   ]
  },
  {
   "cell_type": "code",
   "execution_count": 85,
   "id": "charming-wings",
   "metadata": {},
   "outputs": [],
   "source": [
    "#setting up Spotipy for spotify importing\n",
    "import spotipy\n",
    "from spotipy.oauth2 import SpotifyClientCredentials\n",
    "import json\n",
    "\n",
    "client_id='65345a7007f24e969de028910a832395'\n",
    "client_secret='1e7eab7392d947039426ecd1a5ec56c2'\n",
    "spotify = spotipy.Spotify(client_credentials_manager=SpotifyClientCredentials(client_id,client_secret))"
   ]
  },
  {
   "cell_type": "markdown",
   "id": "answering-while",
   "metadata": {},
   "source": []
  },
  {
   "cell_type": "code",
   "execution_count": null,
   "id": "hidden-mistake",
   "metadata": {},
   "outputs": [],
   "source": []
  },
  {
   "cell_type": "markdown",
   "id": "hindu-librarian",
   "metadata": {},
   "source": [
    "### Pulling data from Notediscover"
   ]
  },
  {
   "cell_type": "code",
   "execution_count": null,
   "id": "asian-japanese",
   "metadata": {},
   "outputs": [],
   "source": []
  },
  {
   "cell_type": "markdown",
   "id": "human-authority",
   "metadata": {},
   "source": [
    "### Pulling data from Wikipedia"
   ]
  },
  {
   "cell_type": "code",
   "execution_count": null,
   "id": "broke-activation",
   "metadata": {},
   "outputs": [],
   "source": []
  },
  {
   "cell_type": "code",
   "execution_count": 82,
   "id": "hybrid-intranet",
   "metadata": {},
   "outputs": [],
   "source": []
  },
  {
   "cell_type": "code",
   "execution_count": 83,
   "id": "champion-hotel",
   "metadata": {},
   "outputs": [
    {
     "name": "stdout",
     "output_type": "stream",
     "text": [
      "Justice (Triple Chucks Deluxe)\n",
      "Justice (Triple Chucks Deluxe)\n",
      "Justice\n",
      "Justice\n",
      "Changes\n",
      "Purpose (Deluxe)\n",
      "Purpose (Deluxe)\n",
      "Journals\n",
      "Journals\n",
      "Journals\n",
      "Believe Acoustic\n",
      "Believe Acoustic\n",
      "Believe (Deluxe Edition)\n",
      "Believe\n",
      "Believe (Deluxe Edition)\n",
      "Never Say Never - The Remixes\n",
      "Never Say Never - The Remixes\n",
      "Under The Mistletoe\n",
      "Under The Mistletoe\n",
      "Under The Mistletoe (Deluxe Edition)\n",
      "Under The Mistletoe (Deluxe Edition)\n",
      "Under The Mistletoe (Deluxe Edition)\n",
      "My World 2.0\n",
      "My Worlds (International Version)\n",
      "My Worlds (Oz Version)\n",
      "My Worlds Acoustic\n",
      "My World\n",
      "My World (Canada Version - All BP's)\n",
      "My World (France Version)\n"
     ]
    }
   ],
   "source": [
    "# setting Justin Bieber URI:\n",
    "\n",
    "jb_uri = 'spotify:artist:1uNFoZAHBGtllmzznpCI3s'\n",
    "\n",
    "#printing albums\n",
    "results = spotify.artist_albums(jb_uri, album_type='album')\n",
    "albums = results['items']\n",
    "while results['next']:\n",
    "    results = spotify.next(results)\n",
    "    albums.extend(results['items'])\n",
    "\n",
    "for album in albums:\n",
    "    print(album['name'])"
   ]
  },
  {
   "cell_type": "code",
   "execution_count": null,
   "id": "prompt-hungary",
   "metadata": {},
   "outputs": [],
   "source": []
  }
 ],
 "metadata": {
  "kernelspec": {
   "display_name": "Python 3",
   "language": "python",
   "name": "python3"
  },
  "language_info": {
   "codemirror_mode": {
    "name": "ipython",
    "version": 3
   },
   "file_extension": ".py",
   "mimetype": "text/x-python",
   "name": "python",
   "nbconvert_exporter": "python",
   "pygments_lexer": "ipython3",
   "version": "3.8.8"
  }
 },
 "nbformat": 4,
 "nbformat_minor": 5
}
