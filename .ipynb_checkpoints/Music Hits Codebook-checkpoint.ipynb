{
 "cells": [
  {
   "cell_type": "code",
   "execution_count": 4,
   "id": "accurate-input",
   "metadata": {},
   "outputs": [],
   "source": [
    "import requests\n",
    "from bs4 import BeautifulSoup\n",
    "\n",
    "URL=\"https://en.wikipedia.org/wiki/Montero_(Call_Me_by_Your_Name)\"\n",
    "page=requests.get(URL)\n",
    "\n",
    "soup = BeautifulSoup(page.content, 'html.parser')"
   ]
  },
  {
   "cell_type": "code",
   "execution_count": 60,
   "id": "handed-nomination",
   "metadata": {},
   "outputs": [
    {
     "data": {
      "text/plain": [
       "['Hip hop', 'electropop']"
      ]
     },
     "execution_count": 60,
     "metadata": {},
     "output_type": "execute_result"
    }
   ],
   "source": [
    "#Genre from wikipedia\n",
    "genre=soup.find(class_=\"infobox vevent\").find(\"a\", title= \"Music genre\").find_all(\"a\")\n",
    "\n",
    "genre2=soup.find(class_=\"infobox-data category hlist\").find(class_=\"hlist hlist-separated\").find_all(\"a\")\n",
    "\n",
    "genres=[]\n",
    "\n",
    "for item in genre2:\n",
    "    genres.append(item.text)\n",
    "    \n",
    "\n",
    "#class= hlist hlist-separated when there are more than one genre listed\n",
    "\n",
    "genres"
   ]
  },
  {
   "cell_type": "code",
   "execution_count": 82,
   "id": "random-commonwealth",
   "metadata": {},
   "outputs": [],
   "source": [
    "#setting up Spotipy for spotify importing\n",
    "import spotipy\n",
    "from spotipy.oauth2 import SpotifyClientCredentials\n",
    "import json\n",
    "\n",
    "client_id='65345a7007f24e969de028910a832395'\n",
    "client_secret='1e7eab7392d947039426ecd1a5ec56c2'\n",
    "spotify = spotipy.Spotify(client_credentials_manager=SpotifyClientCredentials(client_id,client_secret))"
   ]
  },
  {
   "cell_type": "code",
   "execution_count": 83,
   "id": "champion-hotel",
   "metadata": {},
   "outputs": [
    {
     "name": "stdout",
     "output_type": "stream",
     "text": [
      "Justice (Triple Chucks Deluxe)\n",
      "Justice (Triple Chucks Deluxe)\n",
      "Justice\n",
      "Justice\n",
      "Changes\n",
      "Purpose (Deluxe)\n",
      "Purpose (Deluxe)\n",
      "Journals\n",
      "Journals\n",
      "Journals\n",
      "Believe Acoustic\n",
      "Believe Acoustic\n",
      "Believe (Deluxe Edition)\n",
      "Believe\n",
      "Believe (Deluxe Edition)\n",
      "Never Say Never - The Remixes\n",
      "Never Say Never - The Remixes\n",
      "Under The Mistletoe\n",
      "Under The Mistletoe\n",
      "Under The Mistletoe (Deluxe Edition)\n",
      "Under The Mistletoe (Deluxe Edition)\n",
      "Under The Mistletoe (Deluxe Edition)\n",
      "My World 2.0\n",
      "My Worlds (International Version)\n",
      "My Worlds (Oz Version)\n",
      "My Worlds Acoustic\n",
      "My World\n",
      "My World (Canada Version - All BP's)\n",
      "My World (France Version)\n"
     ]
    }
   ],
   "source": [
    "# setting Justin Bieber URI:\n",
    "\n",
    "jb_uri = 'spotify:artist:1uNFoZAHBGtllmzznpCI3s'\n",
    "\n",
    "#printing albums\n",
    "results = spotify.artist_albums(jb_uri, album_type='album')\n",
    "albums = results['items']\n",
    "while results['next']:\n",
    "    results = spotify.next(results)\n",
    "    albums.extend(results['items'])\n",
    "\n",
    "for album in albums:\n",
    "    print(album['name'])"
   ]
  },
  {
   "cell_type": "code",
   "execution_count": null,
   "id": "physical-brooklyn",
   "metadata": {},
   "outputs": [],
   "source": []
  }
 ],
 "metadata": {
  "kernelspec": {
   "display_name": "Python 3",
   "language": "python",
   "name": "python3"
  },
  "language_info": {
   "codemirror_mode": {
    "name": "ipython",
    "version": 3
   },
   "file_extension": ".py",
   "mimetype": "text/x-python",
   "name": "python",
   "nbconvert_exporter": "python",
   "pygments_lexer": "ipython3",
   "version": "3.8.8"
  }
 },
 "nbformat": 4,
 "nbformat_minor": 5
}
